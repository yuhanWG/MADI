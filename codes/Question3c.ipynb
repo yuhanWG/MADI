{
 "cells": [
  {
   "cell_type": "code",
   "execution_count": 2,
   "metadata": {},
   "outputs": [],
   "source": [
    "from env import *\n",
    "from fonctions import *\n",
    "import numpy as np\n",
    "import gurobipy as gp\n",
    "from gurobipy import GRB\n",
    "import time"
   ]
  },
  {
   "cell_type": "code",
   "execution_count": 3,
   "metadata": {},
   "outputs": [],
   "source": [
    "nblig=10\n",
    "nbcol=15\n",
    "N=15\n",
    "P=[1,0.6]"
   ]
  },
  {
   "cell_type": "code",
   "execution_count": 4,
   "metadata": {},
   "outputs": [
    {
     "name": "stdout",
     "output_type": "stream",
     "text": [
      "\n",
      "--------------------------------------------\n",
      "Warning: your license will expire in 5 days\n",
      "--------------------------------------------\n",
      "\n",
      "Academic license - for non-commercial use only - expires 2021-01-25\n",
      "Using license file /home/yuhan/gurobi.lic\n"
     ]
    }
   ],
   "source": [
    "t = np.zeros(len(P))\n",
    "v = np.zeros(len(P))\n",
    "tp = np.zeros(len(P))\n",
    "vp = np.zeros(len(P))\n",
    "for j in range(len(P)):\n",
    "    p = P[j]\n",
    "    env = Env(nblig,nbcol,p,0.2,[0.1,0.2,0.3,0.4]) \n",
    "    for i in range(N):\n",
    "        cases=env.reset()\n",
    "        ts = time.time()\n",
    "        p,val=dual_pl_mono(env,0.99)\n",
    "        te = time.time()\n",
    "        t[j]+=te-ts\n",
    "        v[j]+=val\n",
    "        ts2 = time.time()\n",
    "        pp,valp =dual_pl_mono(env,0.99,True)\n",
    "        te2 = time.time()\n",
    "        tp[j]+=te2-ts2\n",
    "        vp[j]+=valp\n",
    "t=t/N\n",
    "v=v/N\n",
    "tp=tp/N\n",
    "vp=vp/N"
   ]
  },
  {
   "cell_type": "code",
   "execution_count": 5,
   "metadata": {},
   "outputs": [
    {
     "data": {
      "text/plain": [
       "array([0.18572388, 0.16949682])"
      ]
     },
     "execution_count": 5,
     "metadata": {},
     "output_type": "execute_result"
    }
   ],
   "source": [
    "t"
   ]
  },
  {
   "cell_type": "code",
   "execution_count": 6,
   "metadata": {},
   "outputs": [
    {
     "data": {
      "text/plain": [
       "array([128081.17795173, 128893.51295474])"
      ]
     },
     "execution_count": 6,
     "metadata": {},
     "output_type": "execute_result"
    }
   ],
   "source": [
    "v"
   ]
  },
  {
   "cell_type": "code",
   "execution_count": 7,
   "metadata": {},
   "outputs": [
    {
     "data": {
      "text/plain": [
       "array([0.27224127, 0.32667751])"
      ]
     },
     "execution_count": 7,
     "metadata": {},
     "output_type": "execute_result"
    }
   ],
   "source": [
    "tp"
   ]
  },
  {
   "cell_type": "code",
   "execution_count": 8,
   "metadata": {},
   "outputs": [
    {
     "data": {
      "text/plain": [
       "array([128046.02020204, 128854.93351808])"
      ]
     },
     "execution_count": 8,
     "metadata": {},
     "output_type": "execute_result"
    }
   ],
   "source": [
    "vp"
   ]
  },
  {
   "cell_type": "code",
   "execution_count": 8,
   "metadata": {},
   "outputs": [],
   "source": [
    "gamma = [0.9,0.7,0.5]\n",
    "p = 0.6\n",
    "\n",
    "t = np.zeros(len(gamma))\n",
    "v = np.zeros(len(gamma))\n",
    "for j in range(len(gamma)):\n",
    "    g = gamma[j]\n",
    "    env = Env(nblig,nbcol,p,0.2,[0.1,0.2,0.3,0.4]) \n",
    "    for i in range(N):\n",
    "        cases=env.reset()\n",
    "        ts = time.time()\n",
    "        policy,val=dual_pl_mono(env,g)\n",
    "        te = time.time()\n",
    "        t[j]+=te-ts\n",
    "        v[j]+=val\n",
    "t=t/N\n",
    "v=v/N"
   ]
  },
  {
   "cell_type": "code",
   "execution_count": 9,
   "metadata": {},
   "outputs": [
    {
     "data": {
      "text/plain": [
       "array([0.18942502, 0.13864202, 0.13781123])"
      ]
     },
     "execution_count": 9,
     "metadata": {},
     "output_type": "execute_result"
    }
   ],
   "source": [
    "t"
   ]
  },
  {
   "cell_type": "code",
   "execution_count": 10,
   "metadata": {},
   "outputs": [
    {
     "data": {
      "text/plain": [
       "array([50402.73163748, 12641.0027356 ,  5359.6489162 ])"
      ]
     },
     "execution_count": 10,
     "metadata": {},
     "output_type": "execute_result"
    }
   ],
   "source": [
    "v"
   ]
  }
 ],
 "metadata": {
  "kernelspec": {
   "display_name": "Python 3",
   "language": "python",
   "name": "python3"
  },
  "language_info": {
   "codemirror_mode": {
    "name": "ipython",
    "version": 3
   },
   "file_extension": ".py",
   "mimetype": "text/x-python",
   "name": "python",
   "nbconvert_exporter": "python",
   "pygments_lexer": "ipython3",
   "version": "3.8.3"
  }
 },
 "nbformat": 4,
 "nbformat_minor": 4
}
