{
 "cells": [
  {
   "cell_type": "code",
   "execution_count": 1,
   "metadata": {},
   "outputs": [],
   "source": [
    "from env import *\n",
    "from fonctions import *\n",
    "import numpy as np\n",
    "import gurobipy as gp\n",
    "from gurobipy import GRB"
   ]
  },
  {
   "cell_type": "markdown",
   "metadata": {},
   "source": [
    "### Test generator"
   ]
  },
  {
   "cell_type": "code",
   "execution_count": 2,
   "metadata": {},
   "outputs": [],
   "source": [
    "env = Env(10,10,0.6,0.2,[0.1,0.2,0.3,0.4])"
   ]
  },
  {
   "cell_type": "code",
   "execution_count": 3,
   "metadata": {},
   "outputs": [],
   "source": [
    "cases=env.reset()"
   ]
  },
  {
   "cell_type": "code",
   "execution_count": 4,
   "metadata": {},
   "outputs": [
    {
     "data": {
      "text/plain": [
       "array([[3, 4, 3, 3, 0, 0, 0, 0, 0, 2],\n",
       "       [2, 4, 4, 3, 3, 4, 0, 4, 4, 4],\n",
       "       [3, 4, 2, 1, 0, 4, 2, 4, 2, 3],\n",
       "       [3, 0, 3, 0, 4, 0, 3, 4, 4, 3],\n",
       "       [4, 2, 4, 0, 4, 0, 3, 4, 3, 4],\n",
       "       [0, 4, 1, 2, 0, 3, 4, 1, 4, 0],\n",
       "       [4, 2, 1, 3, 2, 2, 4, 3, 0, 2],\n",
       "       [4, 4, 4, 2, 1, 0, 2, 1, 2, 2],\n",
       "       [2, 4, 4, 0, 4, 0, 3, 3, 3, 3],\n",
       "       [0, 4, 4, 3, 3, 0, 4, 3, 3, 1]])"
      ]
     },
     "execution_count": 4,
     "metadata": {},
     "output_type": "execute_result"
    }
   ],
   "source": [
    "cases[:,:,0]"
   ]
  },
  {
   "cell_type": "code",
   "execution_count": 5,
   "metadata": {},
   "outputs": [
    {
     "data": {
      "text/plain": [
       "array([[  -3,   -4,   -3,   -3,    0,    0,    0,    0,    0,   -2],\n",
       "       [  -2,   -4,   -4,   -3,   -3,   -4,    0,   -4,   -4,   -4],\n",
       "       [  -3,   -4,   -2,   -1,    0,   -4,   -2,   -4,   -2,   -3],\n",
       "       [  -3,    0,   -3,    0,   -4,    0,   -3,   -4,   -4,   -3],\n",
       "       [  -4,   -2,   -4,    0,   -4,    0,   -3,   -4,   -3,   -4],\n",
       "       [   0,   -4,   -1,   -2,    0,   -3,   -4,   -1,   -4,    0],\n",
       "       [  -4,   -2,   -1,   -3,   -2,   -2,   -4,   -3,    0,   -2],\n",
       "       [  -4,   -4,   -4,   -2,   -1,    0,   -2,   -1,   -2,   -2],\n",
       "       [  -2,   -4,   -4,    0,   -4,    0,   -3,   -3,   -3,   -3],\n",
       "       [   0,   -4,   -4,   -3,   -3,    0,   -4,   -3,   -3, 1000]])"
      ]
     },
     "execution_count": 5,
     "metadata": {},
     "output_type": "execute_result"
    }
   ],
   "source": [
    "env.reward"
   ]
  },
  {
   "cell_type": "markdown",
   "metadata": {},
   "source": [
    "### Test value iteration"
   ]
  },
  {
   "cell_type": "code",
   "execution_count": 6,
   "metadata": {},
   "outputs": [],
   "source": [
    "nb,v,policy=value_iteration(env,0.9,problem=\"equilibre\")"
   ]
  },
  {
   "cell_type": "code",
   "execution_count": 7,
   "metadata": {},
   "outputs": [],
   "source": [
    "dict_action={0:\"O\",1:\"S\",2:\"W\",3:\"E\"}"
   ]
  },
  {
   "cell_type": "code",
   "execution_count": 8,
   "metadata": {},
   "outputs": [
    {
     "data": {
      "text/plain": [
       "array([[3., 3., 3., 1., 0., 0., 0., 0., 0., 1.],\n",
       "       [1., 3., 3., 3., 3., 1., 0., 1., 1., 1.],\n",
       "       [1., 3., 1., 0., 0., 3., 1., 1., 1., 1.],\n",
       "       [1., 0., 1., 0., 1., 0., 1., 1., 1., 1.],\n",
       "       [3., 1., 1., 0., 1., 0., 1., 1., 1., 2.],\n",
       "       [0., 3., 3., 1., 0., 3., 1., 1., 2., 0.],\n",
       "       [3., 3., 3., 3., 3., 3., 1., 1., 0., 1.],\n",
       "       [3., 3., 3., 3., 0., 0., 1., 3., 1., 1.],\n",
       "       [0., 0., 0., 0., 0., 0., 3., 3., 1., 1.],\n",
       "       [0., 3., 0., 3., 0., 0., 3., 3., 3., 0.]])"
      ]
     },
     "execution_count": 8,
     "metadata": {},
     "output_type": "execute_result"
    }
   ],
   "source": [
    "policy"
   ]
  },
  {
   "cell_type": "markdown",
   "metadata": {},
   "source": [
    "### Test visualisation de politique - avec tables des values"
   ]
  },
  {
   "cell_type": "code",
   "execution_count": 10,
   "metadata": {},
   "outputs": [
    {
     "data": {
      "image/png": "[encoded data removed]",
      "text/plain": [
       "<Figure size 432x288 with 2 Axes>"
      ]
     },
     "metadata": {
      "needs_background": "light"
     },
     "output_type": "display_data"
    }
   ],
   "source": [
    "visu_policy(v,policy,dict_action,cases)"
   ]
  },
  {
   "cell_type": "markdown",
   "metadata": {},
   "source": [
    "### Test programme lineaire de politique mixte"
   ]
  },
  {
   "cell_type": "code",
   "execution_count": 11,
   "metadata": {},
   "outputs": [
    {
     "name": "stdout",
     "output_type": "stream",
     "text": [
      "\n",
      "--------------------------------------------\n",
      "Warning: your license will expire in 2 days\n",
      "--------------------------------------------\n",
      "\n",
      "Academic license - for non-commercial use only - expires 2021-01-25\n",
      "Using license file /home/yuhan/gurobi.lic\n"
     ]
    }
   ],
   "source": [
    "p,v2=dual_pl_mono(env,0.9)"
   ]
  },
  {
   "cell_type": "code",
   "execution_count": 12,
   "metadata": {},
   "outputs": [],
   "source": [
    "pn=normalise(p)"
   ]
  },
  {
   "cell_type": "code",
   "execution_count": 13,
   "metadata": {},
   "outputs": [],
   "source": [
    "pd=get_a_policy(pn)"
   ]
  },
  {
   "cell_type": "code",
   "execution_count": 15,
   "metadata": {},
   "outputs": [
    {
     "data": {
      "image/png": "[encoded data removed]",
      "text/plain": [
       "<Figure size 432x288 with 1 Axes>"
      ]
     },
     "metadata": {
      "needs_background": "light"
     },
     "output_type": "display_data"
    }
   ],
   "source": [
    "visu_policy_plt(pd,env)"
   ]
  },
  {
   "cell_type": "markdown",
   "metadata": {},
   "source": [
    "### Test MOMDP"
   ]
  },
  {
   "cell_type": "code",
   "execution_count": 16,
   "metadata": {},
   "outputs": [
    {
     "name": "stdout",
     "output_type": "stream",
     "text": [
      "Gurobi Optimizer version 9.1.1 build v9.1.1rc0 (linux64)\n",
      "Thread count: 1 physical cores, 1 logical processors, using up to 1 threads\n",
      "Optimize a model with 1330 rows, 401 columns and 2632 nonzeros\n",
      "Model fingerprint: 0xbf525fc4\n",
      "Coefficient statistics:\n",
      "  Matrix range     [1e-02, 9e+00]\n",
      "  Objective range  [1e+00, 1e+00]\n",
      "  Bounds range     [0e+00, 0e+00]\n",
      "  RHS range        [1e+00, 1e+00]\n",
      "Presolve removed 1248 rows and 117 columns\n",
      "Presolve time: 0.02s\n",
      "Presolved: 82 rows, 284 columns, 1326 nonzeros\n",
      "\n",
      "Iteration    Objective       Primal Inf.    Dual Inf.      Time\n",
      "       0    0.0000000e+00   2.546326e+03   0.000000e+00      0s\n",
      "     218    1.0502275e+03   0.000000e+00   0.000000e+00      0s\n",
      "\n",
      "Solved in 218 iterations and 0.04 seconds\n",
      "Optimal objective  1.050227490e+03\n"
     ]
    }
   ],
   "source": [
    "v,policy=minmax_policy(env,gamma=0.99)"
   ]
  },
  {
   "cell_type": "code",
   "execution_count": 17,
   "metadata": {},
   "outputs": [],
   "source": [
    "pd=get_a_policy(pn)"
   ]
  },
  {
   "cell_type": "code",
   "execution_count": 18,
   "metadata": {},
   "outputs": [
    {
     "data": {
      "image/png": "[encoded data removed]",
      "text/plain": [
       "<Figure size 432x288 with 1 Axes>"
      ]
     },
     "metadata": {
      "needs_background": "light"
     },
     "output_type": "display_data"
    }
   ],
   "source": [
    "visu_policy_plt(pd,env)"
   ]
  }
 ],
 "metadata": {
  "kernelspec": {
   "display_name": "Python 3",
   "language": "python",
   "name": "python3"
  },
  "language_info": {
   "codemirror_mode": {
    "name": "ipython",
    "version": 3
   },
   "file_extension": ".py",
   "mimetype": "text/x-python",
   "name": "python",
   "nbconvert_exporter": "python",
   "pygments_lexer": "ipython3",
   "version": "3.8.3"
  }
 },
 "nbformat": 4,
 "nbformat_minor": 4
}
