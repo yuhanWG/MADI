{
 "cells": [
  {
   "cell_type": "code",
   "execution_count": 1,
   "metadata": {},
   "outputs": [],
   "source": [
    "from generateur import *\n",
    "import numpy as np"
   ]
  },
  {
   "cell_type": "code",
   "execution_count": 2,
   "metadata": {},
   "outputs": [],
   "source": [
    "g = generator(10,10,0.1,[0.1,0.2,0.3,0.4],0.6)"
   ]
  },
  {
   "cell_type": "code",
   "execution_count": 3,
   "metadata": {},
   "outputs": [
    {
     "name": "stdout",
     "output_type": "stream",
     "text": [
      "couleurs\n",
      "[[1 2 3 0 3 3 2 3 4 2]\n",
      " [3 2 2 2 2 4 1 3 1 4]\n",
      " [4 1 0 2 3 3 1 4 1 4]\n",
      " [4 4 4 2 2 4 4 4 3 3]\n",
      " [2 0 3 3 2 3 0 4 4 2]\n",
      " [3 1 3 4 4 3 4 3 3 2]\n",
      " [4 3 4 4 2 2 3 4 0 0]\n",
      " [0 0 1 3 4 4 3 3 4 0]\n",
      " [3 3 3 3 3 3 1 2 3 4]\n",
      " [2 0 3 4 3 3 3 4 2 2]]\n",
      "chiffre\n",
      "[[1 9 3 0 7 5 4 1 4 7]\n",
      " [6 3 9 1 2 1 4 3 2 7]\n",
      " [4 9 0 6 9 6 8 2 3 1]\n",
      " [7 5 9 8 3 4 7 6 5 6]\n",
      " [4 0 4 7 5 5 0 5 6 2]\n",
      " [9 7 7 6 8 3 6 7 6 9]\n",
      " [7 5 6 9 3 5 2 9 0 0]\n",
      " [0 0 4 7 6 5 2 3 2 0]\n",
      " [4 6 1 6 9 2 5 9 4 7]\n",
      " [3 0 5 7 3 7 7 7 6 7]]\n"
     ]
    }
   ],
   "source": [
    "cases=g.random_init()"
   ]
  },
  {
   "cell_type": "code",
   "execution_count": 4,
   "metadata": {},
   "outputs": [
    {
     "data": {
      "text/plain": [
       "numpy.int64"
      ]
     },
     "execution_count": 4,
     "metadata": {},
     "output_type": "execute_result"
    }
   ],
   "source": [
    "type(cases[0,0,0])"
   ]
  },
  {
   "cell_type": "code",
   "execution_count": null,
   "metadata": {},
   "outputs": [],
   "source": []
  }
 ],
 "metadata": {
  "kernelspec": {
   "display_name": "Python 3",
   "language": "python",
   "name": "python3"
  },
  "language_info": {
   "codemirror_mode": {
    "name": "ipython",
    "version": 3
   },
   "file_extension": ".py",
   "mimetype": "text/x-python",
   "name": "python",
   "nbconvert_exporter": "python",
   "pygments_lexer": "ipython3",
   "version": "3.8.3"
  }
 },
 "nbformat": 4,
 "nbformat_minor": 4
}
