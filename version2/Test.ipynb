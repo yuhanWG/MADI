{
 "cells": [
  {
   "cell_type": "code",
   "execution_count": 1,
   "metadata": {},
   "outputs": [],
   "source": [
    "from generateur import *\n",
    "import numpy as np\n",
    "from mdp import *"
   ]
  },
  {
   "cell_type": "code",
   "execution_count": 2,
   "metadata": {},
   "outputs": [],
   "source": [
    "g = generator(10,10,0.1,[0.1,0.2,0.3,0.4],0.6)"
   ]
  },
  {
   "cell_type": "code",
   "execution_count": 3,
   "metadata": {},
   "outputs": [
    {
     "name": "stdout",
     "output_type": "stream",
     "text": [
      "couleurs\n",
      "[[3 3 3 1 4 3 4 4 4 3]\n",
      " [3 3 3 4 3 4 3 4 2 3]\n",
      " [4 1 4 4 3 4 3 3 3 4]\n",
      " [1 3 4 3 1 0 4 1 3 4]\n",
      " [4 1 4 4 2 4 1 0 2 3]\n",
      " [4 4 0 2 2 3 0 2 3 3]\n",
      " [2 3 3 4 4 4 4 1 4 2]\n",
      " [4 1 3 4 1 2 3 4 4 3]\n",
      " [4 4 3 0 3 0 3 2 4 3]\n",
      " [2 4 4 2 2 4 4 1 4 3]]\n",
      "chiffre\n",
      "[[0 0 9 1 2 6 7 4 1 5]\n",
      " [0 4 8 4 8 3 2 2 6 4]\n",
      " [5 2 7 4 1 8 3 9 3 8]\n",
      " [2 4 2 8 2 0 5 1 8 3]\n",
      " [2 2 2 8 7 6 4 0 2 7]\n",
      " [7 3 0 5 8 4 0 4 5 3]\n",
      " [7 6 2 3 6 1 7 6 9 5]\n",
      " [3 5 4 3 1 7 7 3 1 1]\n",
      " [4 6 5 0 6 0 8 3 5 2]\n",
      " [3 5 6 6 1 7 1 6 4 2]]\n"
     ]
    }
   ],
   "source": [
    "cases=g.random_init()"
   ]
  },
  {
   "cell_type": "code",
   "execution_count": 4,
   "metadata": {},
   "outputs": [],
   "source": [
    "p = Pdm(cases,0.9,0.7)"
   ]
  },
  {
   "cell_type": "code",
   "execution_count": 5,
   "metadata": {},
   "outputs": [
    {
     "name": "stdout",
     "output_type": "stream",
     "text": [
      "[[ 139.58431975  154.66522329  172.79209654  190.35895301  212.40193317\n",
      "   235.84758137  261.83951538  289.89997583  318.19200352  332.44135228]\n",
      " [ 156.35903881  170.14633688  188.73551587  211.98150405  234.97389137\n",
      "   260.21136062  291.78038647  326.41506576  358.65283136  374.99767327]\n",
      " [ 175.53343834  189.82210519  213.04753634  240.29327406  264.33574532\n",
      "   291.13170403  327.34357469  365.9344769   405.07379804  423.74210527]\n",
      " [ 193.60229905  212.79767311  240.54271464  270.20697685  299.55268428\n",
      "     0.          360.48073932  408.33932672  457.52445376  478.20431897]\n",
      " [ 216.19638432  235.27456659  270.32849716  304.98316617  335.35729677\n",
      "   368.18414732  334.37514764    0.          505.65894897  539.59524295]\n",
      " [ 240.84930613  266.27159614    0.          335.26785647  374.09819239\n",
      "   418.99462921    0.          513.88090572  566.47352984  609.30891036]\n",
      " [ 264.82461277  299.32205517  331.83243468  373.16789478  419.35377924\n",
      "   470.57515317  517.922389    571.75701078  634.47752902  687.52214894]\n",
      " [ 286.55732856  319.66705596  359.03883443  408.70740998  457.19820654\n",
      "   517.60857629  579.36685615  637.36379132  710.02441974  777.54098337]\n",
      " [ 307.49989227  344.50819152  382.77934514    0.          487.47984931\n",
      "     0.          635.83655112  709.64366327  791.85443748  880.77207099]\n",
      " [ 330.68512055  376.7013264   429.90341804  479.89268671  544.09530334\n",
      "   608.99478149  688.89783933  776.79208469  880.90422958 1000.        ]]\n"
     ]
    }
   ],
   "source": [
    "value,policy=p.value_iteration()"
   ]
  },
  {
   "cell_type": "code",
   "execution_count": 6,
   "metadata": {},
   "outputs": [],
   "source": [
    "from fonctions import *"
   ]
  },
  {
   "cell_type": "code",
   "execution_count": 7,
   "metadata": {},
   "outputs": [],
   "source": [
    "dict_action={0:\"O\",1:\"S\",2:\"W\",3:\"E\"}"
   ]
  },
  {
   "cell_type": "code",
   "execution_count": 8,
   "metadata": {},
   "outputs": [
    {
     "data": {
      "text/plain": [
       "array([[1., 3., 3., 3., 3., 3., 3., 1., 1., 1.],\n",
       "       [1., 1., 1., 1., 1., 3., 1., 1., 1., 1.],\n",
       "       [1., 1., 1., 1., 1., 3., 1., 1., 1., 1.],\n",
       "       [1., 3., 3., 1., 1., 0., 3., 3., 1., 1.],\n",
       "       [1., 3., 3., 1., 1., 1., 2., 0., 1., 1.],\n",
       "       [1., 1., 0., 3., 1., 1., 0., 1., 1., 1.],\n",
       "       [3., 3., 3., 3., 3., 3., 1., 1., 1., 1.],\n",
       "       [3., 3., 3., 3., 3., 3., 1., 1., 1., 1.],\n",
       "       [3., 3., 1., 0., 1., 0., 3., 3., 3., 1.],\n",
       "       [3., 3., 3., 3., 3., 3., 3., 3., 3., 0.]])"
      ]
     },
     "execution_count": 8,
     "metadata": {},
     "output_type": "execute_result"
    }
   ],
   "source": [
    "policy"
   ]
  },
  {
   "cell_type": "code",
   "execution_count": 9,
   "metadata": {},
   "outputs": [
    {
     "data": {
      "image/png": "[encoded data removed]",
      "text/plain": [
       "<Figure size 432x288 with 1 Axes>"
      ]
     },
     "metadata": {
      "needs_background": "light"
     },
     "output_type": "display_data"
    }
   ],
   "source": [
    "visu_policy(value,policy,dict_action,cases)"
   ]
  },
  {
   "cell_type": "code",
   "execution_count": null,
   "metadata": {},
   "outputs": [],
   "source": []
  }
 ],
 "metadata": {
  "kernelspec": {
   "display_name": "Python 3",
   "language": "python",
   "name": "python3"
  },
  "language_info": {
   "codemirror_mode": {
    "name": "ipython",
    "version": 3
   },
   "file_extension": ".py",
   "mimetype": "text/x-python",
   "name": "python",
   "nbconvert_exporter": "python",
   "pygments_lexer": "ipython3",
   "version": "3.8.3"
  }
 },
 "nbformat": 4,
 "nbformat_minor": 4
}
