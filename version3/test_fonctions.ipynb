{
 "cells": [
  {
   "cell_type": "code",
   "execution_count": 1,
   "metadata": {},
   "outputs": [],
   "source": [
    "from env import *\n",
    "from fonctions import *\n",
    "import numpy as np\n",
    "import gurobipy as gp\n",
    "from gurobipy import GRB"
   ]
  },
  {
   "cell_type": "markdown",
   "metadata": {},
   "source": [
    "### Test generator"
   ]
  },
  {
   "cell_type": "code",
   "execution_count": 2,
   "metadata": {},
   "outputs": [],
   "source": [
    "env = Env(10,10,0.6,0.2,[0.1,0.2,0.3,0.4])"
   ]
  },
  {
   "cell_type": "code",
   "execution_count": 3,
   "metadata": {},
   "outputs": [],
   "source": [
    "cases=env.reset()"
   ]
  },
  {
   "cell_type": "code",
   "execution_count": 4,
   "metadata": {},
   "outputs": [
    {
     "data": {
      "text/plain": [
       "array([[3, 3, 0, 3, 4, 0, 3, 3, 0, 3],\n",
       "       [2, 2, 0, 3, 1, 0, 0, 2, 3, 4],\n",
       "       [0, 4, 0, 0, 0, 1, 4, 3, 4, 3],\n",
       "       [0, 3, 4, 3, 3, 4, 0, 2, 4, 3],\n",
       "       [0, 4, 3, 4, 0, 3, 2, 3, 4, 3],\n",
       "       [0, 3, 2, 3, 2, 2, 4, 3, 0, 2],\n",
       "       [0, 4, 4, 4, 3, 3, 0, 3, 4, 1],\n",
       "       [3, 0, 4, 0, 0, 0, 3, 2, 2, 4],\n",
       "       [0, 4, 2, 3, 0, 0, 0, 3, 3, 1],\n",
       "       [2, 1, 3, 3, 3, 4, 0, 2, 3, 2]])"
      ]
     },
     "execution_count": 4,
     "metadata": {},
     "output_type": "execute_result"
    }
   ],
   "source": [
    "cases[:,:,0]"
   ]
  },
  {
   "cell_type": "code",
   "execution_count": 5,
   "metadata": {},
   "outputs": [
    {
     "data": {
      "text/plain": [
       "array([[  -3,   -3,    0,   -3,   -4,    0,   -3,   -3,    0,   -3],\n",
       "       [  -2,   -2,    0,   -3,   -1,    0,    0,   -2,   -3,   -4],\n",
       "       [   0,   -4,    0,    0,    0,   -1,   -4,   -3,   -4,   -3],\n",
       "       [   0,   -3,   -4,   -3,   -3,   -4,    0,   -2,   -4,   -3],\n",
       "       [   0,   -4,   -3,   -4,    0,   -3,   -2,   -3,   -4,   -3],\n",
       "       [   0,   -3,   -2,   -3,   -2,   -2,   -4,   -3,    0,   -2],\n",
       "       [   0,   -4,   -4,   -4,   -3,   -3,    0,   -3,   -4,   -1],\n",
       "       [  -3,    0,   -4,    0,    0,    0,   -3,   -2,   -2,   -4],\n",
       "       [   0,   -4,   -2,   -3,    0,    0,    0,   -3,   -3,   -1],\n",
       "       [  -2,   -1,   -3,   -3,   -3,   -4,    0,   -2,   -3, 1000]])"
      ]
     },
     "execution_count": 5,
     "metadata": {},
     "output_type": "execute_result"
    }
   ],
   "source": [
    "env.reward"
   ]
  },
  {
   "cell_type": "markdown",
   "metadata": {},
   "source": [
    "### Test value iteration"
   ]
  },
  {
   "cell_type": "code",
   "execution_count": 6,
   "metadata": {},
   "outputs": [],
   "source": [
    "nb,v,policy=value_iteration(env,0.9,max_iteration=2000)"
   ]
  },
  {
   "cell_type": "code",
   "execution_count": 7,
   "metadata": {},
   "outputs": [],
   "source": [
    "dict_action={0:\"O\",1:\"S\",2:\"W\",3:\"E\"}"
   ]
  },
  {
   "cell_type": "code",
   "execution_count": 8,
   "metadata": {},
   "outputs": [
    {
     "data": {
      "text/plain": [
       "array([[1., 1., 0., 1., 1., 0., 3., 1., 0., 1.],\n",
       "       [3., 1., 0., 3., 1., 0., 0., 1., 1., 1.],\n",
       "       [0., 1., 0., 0., 0., 1., 3., 1., 1., 1.],\n",
       "       [0., 3., 3., 3., 3., 1., 0., 1., 1., 1.],\n",
       "       [0., 3., 3., 1., 0., 3., 1., 1., 3., 1.],\n",
       "       [0., 3., 3., 3., 3., 3., 3., 1., 0., 1.],\n",
       "       [0., 3., 3., 3., 3., 0., 0., 3., 1., 1.],\n",
       "       [0., 0., 0., 0., 0., 0., 3., 1., 1., 1.],\n",
       "       [0., 3., 0., 2., 0., 0., 0., 1., 3., 1.],\n",
       "       [3., 0., 0., 0., 2., 2., 0., 3., 3., 0.]])"
      ]
     },
     "execution_count": 8,
     "metadata": {},
     "output_type": "execute_result"
    }
   ],
   "source": [
    "policy"
   ]
  },
  {
   "cell_type": "code",
   "execution_count": 9,
   "metadata": {},
   "outputs": [
    {
     "data": {
      "text/plain": [
       "array([[159.04409295, 171.00517332,   0.        , -12.09704443,\n",
       "        -10.52201343,   0.        , 302.17819478, 331.98903776,\n",
       "          0.        , 361.70690621],\n",
       "       [174.50785129, 196.65800012,   0.        , -10.69150495,\n",
       "         -9.99700309,   0.        ,   0.        , 366.36715333,\n",
       "        391.13715201, 409.86419285],\n",
       "       [  0.        , 222.95333347,   0.        ,   0.        ,\n",
       "          0.        , 341.30030314, 370.16505691, 415.44587332,\n",
       "        437.75928606, 464.26044633],\n",
       "       [  0.        , 245.21445237, 275.54959868, 309.96072001,\n",
       "        347.73413334, 392.37244324,   0.        , 458.21220953,\n",
       "        488.51712477, 527.12133872],\n",
       "       [  0.        , 252.07989317, 281.21522953, 308.76600154,\n",
       "          0.        , 431.21644127, 470.53669739, 517.91656775,\n",
       "        538.00365231, 602.05650181],\n",
       "       [  0.        , 261.80831278, 297.91523037, 346.04810607,\n",
       "        393.75157109, 460.41668213, 526.83343973, 592.06465083,\n",
       "          0.        , 671.1738909 ],\n",
       "       [  0.        , 253.02081917, 293.97415037, 327.06318233,\n",
       "        359.70541602, 388.37557394,   0.        , 649.40858935,\n",
       "        709.39148054, 757.06031167],\n",
       "       [-29.99100928,   0.        , 245.8335361 ,   0.        ,\n",
       "          0.        ,   0.        , 648.17944604, 724.71062986,\n",
       "        790.25957424, 858.90776154],\n",
       "       [  0.        , 192.02080066, 217.25018249, 192.02080066,\n",
       "          0.        ,   0.        ,   0.        , 790.78977681,\n",
       "        879.67772531, 974.95245969],\n",
       "       [154.51322295, 168.8187206 , 183.64258678, 179.30129806,\n",
       "        160.66067872, 141.59461085,   0.        , 857.55182933,\n",
       "        975.29144274,   0.        ]])"
      ]
     },
     "execution_count": 9,
     "metadata": {},
     "output_type": "execute_result"
    }
   ],
   "source": [
    "v"
   ]
  },
  {
   "cell_type": "markdown",
   "metadata": {},
   "source": [
    "### Test visualisation de politique"
   ]
  },
  {
   "cell_type": "code",
   "execution_count": 10,
   "metadata": {},
   "outputs": [
    {
     "data": {
      "image/png": "[encoded data removed]",
      "text/plain": [
       "<Figure size 432x288 with 1 Axes>"
      ]
     },
     "metadata": {
      "needs_background": "light"
     },
     "output_type": "display_data"
    }
   ],
   "source": [
    "visu_policy(v,policy,dict_action,cases)"
   ]
  },
  {
   "cell_type": "markdown",
   "metadata": {},
   "source": [
    "### Test programmation lineaire de politique mixte"
   ]
  },
  {
   "cell_type": "code",
   "execution_count": 11,
   "metadata": {},
   "outputs": [
    {
     "name": "stdout",
     "output_type": "stream",
     "text": [
      "Academic license - for non-commercial use only - expires 2021-01-25\n",
      "Using license file /home/yuhan/gurobi.lic\n"
     ]
    }
   ],
   "source": [
    "results = dual_pl_mono(env,0.9)"
   ]
  },
  {
   "cell_type": "code",
   "execution_count": 12,
   "metadata": {},
   "outputs": [],
   "source": [
    "p=dual_pl_mono(env,0.9)"
   ]
  },
  {
   "cell_type": "code",
   "execution_count": 13,
   "metadata": {},
   "outputs": [
    {
     "name": "stdout",
     "output_type": "stream",
     "text": [
      "(10, 10, 4)\n"
     ]
    }
   ],
   "source": [
    "print(p.shape)"
   ]
  },
  {
   "cell_type": "code",
   "execution_count": 14,
   "metadata": {},
   "outputs": [],
   "source": [
    "pn=normalise(p)"
   ]
  },
  {
   "cell_type": "code",
   "execution_count": 15,
   "metadata": {},
   "outputs": [],
   "source": [
    "pd=get_a_policy(pn)"
   ]
  },
  {
   "cell_type": "code",
   "execution_count": 16,
   "metadata": {},
   "outputs": [
    {
     "data": {
      "image/png": "[encoded data removed]",
      "text/plain": [
       "<Figure size 432x288 with 1 Axes>"
      ]
     },
     "metadata": {
      "needs_background": "light"
     },
     "output_type": "display_data"
    }
   ],
   "source": [
    "visu_policy(v,pd,dict_action,cases)"
   ]
  }
 ],
 "metadata": {
  "kernelspec": {
   "display_name": "Python 3",
   "language": "python",
   "name": "python3"
  },
  "language_info": {
   "codemirror_mode": {
    "name": "ipython",
    "version": 3
   },
   "file_extension": ".py",
   "mimetype": "text/x-python",
   "name": "python",
   "nbconvert_exporter": "python",
   "pygments_lexer": "ipython3",
   "version": "3.8.3"
  }
 },
 "nbformat": 4,
 "nbformat_minor": 4
}
