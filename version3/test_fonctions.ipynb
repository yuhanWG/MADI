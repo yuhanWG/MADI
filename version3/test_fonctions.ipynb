{
 "cells": [
  {
   "cell_type": "code",
   "execution_count": 1,
   "metadata": {},
   "outputs": [],
   "source": [
    "from env import *\n",
    "from fonctions2 import *\n",
    "import numpy as np\n",
    "import gurobipy as gp\n",
    "from gurobipy import GRB"
   ]
  },
  {
   "cell_type": "markdown",
   "metadata": {},
   "source": [
    "### Test generator"
   ]
  },
  {
   "cell_type": "code",
   "execution_count": 2,
   "metadata": {},
   "outputs": [],
   "source": [
    "env = Env(10,15,0.6,0.2,[0.1,0.2,0.3,0.4])"
   ]
  },
  {
   "cell_type": "code",
   "execution_count": 3,
   "metadata": {},
   "outputs": [],
   "source": [
    "cases=env.reset()"
   ]
  },
  {
   "cell_type": "code",
   "execution_count": 4,
   "metadata": {},
   "outputs": [
    {
     "data": {
      "text/plain": [
       "array([[4, 3, 4, 3, 2, 0, 4, 4, 3, 3, 0, 4, 4, 0, 4],\n",
       "       [4, 2, 0, 3, 3, 3, 4, 3, 4, 0, 2, 1, 3, 2, 0],\n",
       "       [4, 2, 2, 0, 3, 4, 4, 4, 2, 4, 3, 4, 2, 2, 4],\n",
       "       [0, 0, 1, 4, 3, 4, 3, 2, 4, 4, 2, 2, 3, 0, 0],\n",
       "       [0, 4, 2, 4, 4, 4, 0, 0, 2, 1, 4, 3, 0, 1, 2],\n",
       "       [0, 4, 0, 4, 0, 0, 3, 4, 3, 4, 3, 4, 2, 3, 2],\n",
       "       [3, 3, 4, 4, 2, 3, 0, 2, 2, 3, 2, 4, 2, 4, 4],\n",
       "       [0, 0, 4, 0, 4, 3, 4, 4, 4, 4, 3, 4, 3, 4, 3],\n",
       "       [4, 4, 2, 0, 4, 4, 2, 0, 4, 4, 0, 4, 4, 4, 1],\n",
       "       [3, 3, 0, 4, 2, 0, 4, 4, 0, 3, 0, 4, 3, 4, 4]])"
      ]
     },
     "execution_count": 4,
     "metadata": {},
     "output_type": "execute_result"
    }
   ],
   "source": [
    "cases[:,:,0]"
   ]
  },
  {
   "cell_type": "code",
   "execution_count": 5,
   "metadata": {},
   "outputs": [
    {
     "data": {
      "text/plain": [
       "array([[  -4,   -3,   -4,   -3,   -2,    0,   -4,   -4,   -3,   -3,    0,\n",
       "          -4,   -4,    0,   -4],\n",
       "       [  -4,   -2,    0,   -3,   -3,   -3,   -4,   -3,   -4,    0,   -2,\n",
       "          -1,   -3,   -2,    0],\n",
       "       [  -4,   -2,   -2,    0,   -3,   -4,   -4,   -4,   -2,   -4,   -3,\n",
       "          -4,   -2,   -2,   -4],\n",
       "       [   0,    0,   -1,   -4,   -3,   -4,   -3,   -2,   -4,   -4,   -2,\n",
       "          -2,   -3,    0,    0],\n",
       "       [   0,   -4,   -2,   -4,   -4,   -4,    0,    0,   -2,   -1,   -4,\n",
       "          -3,    0,   -1,   -2],\n",
       "       [   0,   -4,    0,   -4,    0,    0,   -3,   -4,   -3,   -4,   -3,\n",
       "          -4,   -2,   -3,   -2],\n",
       "       [  -3,   -3,   -4,   -4,   -2,   -3,    0,   -2,   -2,   -3,   -2,\n",
       "          -4,   -2,   -4,   -4],\n",
       "       [   0,    0,   -4,    0,   -4,   -3,   -4,   -4,   -4,   -4,   -3,\n",
       "          -4,   -3,   -4,   -3],\n",
       "       [  -4,   -4,   -2,    0,   -4,   -4,   -2,    0,   -4,   -4,    0,\n",
       "          -4,   -4,   -4,   -1],\n",
       "       [  -3,   -3,    0,   -4,   -2,    0,   -4,   -4,    0,   -3,    0,\n",
       "          -4,   -3,   -4, 1000]])"
      ]
     },
     "execution_count": 5,
     "metadata": {},
     "output_type": "execute_result"
    }
   ],
   "source": [
    "env.reward"
   ]
  },
  {
   "cell_type": "markdown",
   "metadata": {},
   "source": [
    "### Test value iteration"
   ]
  },
  {
   "cell_type": "code",
   "execution_count": 21,
   "metadata": {},
   "outputs": [],
   "source": [
    "nb,v,policy=value_iteration(env,0.9,max_iteration=2000)"
   ]
  },
  {
   "cell_type": "code",
   "execution_count": 7,
   "metadata": {},
   "outputs": [],
   "source": [
    "dict_action={0:\"O\",1:\"S\",2:\"W\",3:\"E\"}"
   ]
  },
  {
   "cell_type": "code",
   "execution_count": 8,
   "metadata": {},
   "outputs": [
    {
     "data": {
      "text/plain": [
       "array([[3., 3., 3., 3., 1., 0., 3., 3., 1., 2., 0., 1., 1., 0., 0.],\n",
       "       [3., 1., 0., 3., 3., 3., 3., 1., 1., 0., 1., 1., 1., 1., 0.],\n",
       "       [3., 3., 1., 0., 3., 3., 3., 3., 3., 1., 1., 1., 1., 2., 2.],\n",
       "       [0., 0., 3., 3., 3., 3., 3., 3., 1., 1., 1., 1., 2., 0., 0.],\n",
       "       [0., 3., 3., 1., 3., 0., 0., 0., 3., 3., 1., 1., 0., 1., 1.],\n",
       "       [0., 1., 0., 1., 0., 0., 3., 1., 3., 1., 1., 3., 1., 1., 1.],\n",
       "       [3., 3., 3., 3., 3., 1., 0., 3., 3., 3., 3., 1., 1., 1., 1.],\n",
       "       [0., 0., 0., 0., 3., 3., 3., 3., 3., 3., 3., 1., 1., 1., 1.],\n",
       "       [3., 3., 0., 0., 3., 3., 0., 0., 3., 0., 0., 1., 3., 1., 1.],\n",
       "       [0., 0., 0., 3., 0., 0., 0., 2., 0., 0., 0., 3., 3., 3., 0.]])"
      ]
     },
     "execution_count": 8,
     "metadata": {},
     "output_type": "execute_result"
    }
   ],
   "source": [
    "policy"
   ]
  },
  {
   "cell_type": "code",
   "execution_count": 9,
   "metadata": {},
   "outputs": [
    {
     "data": {
      "text/plain": [
       "array([[  84.82001728,   97.35968261,  112.62186956,  126.00689848,\n",
       "         138.59778353,    0.        ,  178.29800868,  197.30250511,\n",
       "         216.04387253,  197.30250511,    0.        ,  277.40627149,\n",
       "         266.54568368,    0.        ,  -39.99126102],\n",
       "       [  87.97044121,   97.33914332,    0.        ,  138.31612588,\n",
       "         157.86941298,  174.72998813,  197.37576869,  222.44558336,\n",
       "         249.72731601,    0.        ,  302.55611498,  314.99993761,\n",
       "         302.47891383,  271.70600804,    0.        ],\n",
       "       [  95.8512896 ,  111.56978305,  123.54571302,    0.        ,\n",
       "         171.77245463,  195.91011961,  222.51906374,  250.78168199,\n",
       "         280.94468675,  309.31379115,  343.1440093 ,  361.01037532,\n",
       "         342.71340702,  304.62114712,  266.23430738],\n",
       "       [   0.        ,    0.        ,  135.64927601,  152.65685719,\n",
       "         177.82568205,  212.94217878,  244.5677046 ,  280.31528033,\n",
       "         316.22574588,  345.77087294,  384.87158613,  419.3033092 ,\n",
       "         375.05390467,    0.        ,    0.        ],\n",
       "       [   0.        ,  128.1167613 ,  146.52762725,  165.20188237,\n",
       "         160.62192808,  175.40602208,    0.        ,    0.        ,\n",
       "         345.46296632,  384.95783404,  430.61282566,  479.15694526,\n",
       "           0.        ,  569.19836643,  598.81494004],\n",
       "       [   0.        ,  138.11714606,    0.        ,  188.00209152,\n",
       "           0.        ,    0.        ,  314.61007253,  347.40937847,\n",
       "         385.34958259,  430.81654898,  480.83345931,  537.86543785,\n",
       "         586.44214525,  638.35362682,  675.15456557],\n",
       "       [ 133.81838277,  155.77402289,  183.95480446,  214.04781665,\n",
       "         238.35780959,  261.71117446,    0.        ,  378.19622237,\n",
       "         428.37832427,  481.20131118,  535.88745877,  596.87775314,\n",
       "         653.48385149,  716.23816598,  764.21068846],\n",
       "       [   0.        ,    0.        ,  151.81424265,    0.        ,\n",
       "         249.05663193,  294.0320221 ,  341.6871599 ,  385.01644426,\n",
       "         445.05001332,  524.34798563,  598.17811535,  670.87607368,\n",
       "         725.18118105,  802.93511368,  865.1144    ],\n",
       "       [ 100.39458517,  120.42219291,  132.63281839,    0.        ,\n",
       "         234.61107833,  257.61849216,  286.7625943 ,    0.        ,\n",
       "         395.45188168,  439.36591704,    0.        ,  735.928     ,\n",
       "         805.59952046,  898.28      ,  979.2       ],\n",
       "       [  89.96009605,   97.17003483,    0.        ,  184.43497345,\n",
       "         207.1499705 ,    0.        ,  244.7944581 ,  224.26927681,\n",
       "           0.        ,  375.62027261,    0.        ,  803.4       ,\n",
       "         896.        , 1000.        ,    0.        ]])"
      ]
     },
     "execution_count": 9,
     "metadata": {},
     "output_type": "execute_result"
    }
   ],
   "source": [
    "v"
   ]
  },
  {
   "cell_type": "markdown",
   "metadata": {},
   "source": [
    "### Test visualisation de politique"
   ]
  },
  {
   "cell_type": "code",
   "execution_count": 10,
   "metadata": {},
   "outputs": [
    {
     "data": {
      "image/png": "[encoded data removed]",
      "text/plain": [
       "<Figure size 432x288 with 1 Axes>"
      ]
     },
     "metadata": {
      "needs_background": "light"
     },
     "output_type": "display_data"
    }
   ],
   "source": [
    "visu_policy(v,policy,dict_action,cases)"
   ]
  },
  {
   "cell_type": "markdown",
   "metadata": {},
   "source": [
    "### Test programmation lineaire de politique mixte"
   ]
  },
  {
   "cell_type": "code",
   "execution_count": 18,
   "metadata": {},
   "outputs": [],
   "source": [
    "p,v2=dual_pl_mono(env,0.9)"
   ]
  },
  {
   "cell_type": "code",
   "execution_count": 19,
   "metadata": {},
   "outputs": [],
   "source": [
    "pn=normalise(p)"
   ]
  },
  {
   "cell_type": "code",
   "execution_count": 20,
   "metadata": {},
   "outputs": [
    {
     "name": "stdout",
     "output_type": "stream",
     "text": [
      "[[[0. 0. 0. 1.]\n",
      "  [0. 0. 0. 1.]\n",
      "  [0. 0. 0. 1.]\n",
      "  [0. 0. 0. 1.]\n",
      "  [0. 1. 0. 0.]\n",
      "  [0. 0. 0. 0.]\n",
      "  [0. 0. 0. 1.]\n",
      "  [0. 0. 0. 1.]\n",
      "  [0. 1. 0. 0.]\n",
      "  [0. 0. 1. 0.]\n",
      "  [0. 0. 0. 0.]\n",
      "  [0. 1. 0. 0.]\n",
      "  [0. 1. 0. 0.]\n",
      "  [0. 0. 0. 0.]\n",
      "  [0. 0. 1. 0.]]\n",
      "\n",
      " [[0. 0. 0. 1.]\n",
      "  [0. 1. 0. 0.]\n",
      "  [0. 0. 0. 0.]\n",
      "  [0. 0. 0. 1.]\n",
      "  [0. 0. 0. 1.]\n",
      "  [0. 0. 0. 1.]\n",
      "  [0. 0. 0. 1.]\n",
      "  [0. 1. 0. 0.]\n",
      "  [0. 1. 0. 0.]\n",
      "  [0. 0. 0. 0.]\n",
      "  [0. 1. 0. 0.]\n",
      "  [0. 1. 0. 0.]\n",
      "  [0. 1. 0. 0.]\n",
      "  [0. 1. 0. 0.]\n",
      "  [0. 0. 0. 0.]]\n",
      "\n",
      " [[0. 0. 0. 1.]\n",
      "  [0. 0. 0. 1.]\n",
      "  [0. 1. 0. 0.]\n",
      "  [0. 0. 0. 0.]\n",
      "  [0. 0. 0. 1.]\n",
      "  [0. 0. 0. 1.]\n",
      "  [0. 0. 0. 1.]\n",
      "  [0. 0. 0. 1.]\n",
      "  [0. 0. 0. 1.]\n",
      "  [0. 1. 0. 0.]\n",
      "  [0. 1. 0. 0.]\n",
      "  [0. 1. 0. 0.]\n",
      "  [0. 1. 0. 0.]\n",
      "  [0. 0. 1. 0.]\n",
      "  [0. 0. 1. 0.]]\n",
      "\n",
      " [[0. 0. 0. 0.]\n",
      "  [0. 0. 0. 0.]\n",
      "  [0. 0. 0. 1.]\n",
      "  [0. 0. 0. 1.]\n",
      "  [0. 0. 0. 1.]\n",
      "  [0. 0. 0. 1.]\n",
      "  [0. 0. 0. 1.]\n",
      "  [0. 0. 0. 1.]\n",
      "  [0. 1. 0. 0.]\n",
      "  [0. 1. 0. 0.]\n",
      "  [0. 1. 0. 0.]\n",
      "  [0. 1. 0. 0.]\n",
      "  [0. 0. 1. 0.]\n",
      "  [0. 0. 0. 0.]\n",
      "  [0. 0. 0. 0.]]\n",
      "\n",
      " [[0. 0. 0. 0.]\n",
      "  [0. 0. 0. 1.]\n",
      "  [0. 0. 0. 1.]\n",
      "  [0. 1. 0. 0.]\n",
      "  [0. 0. 0. 1.]\n",
      "  [1. 0. 0. 0.]\n",
      "  [0. 0. 0. 0.]\n",
      "  [0. 0. 0. 0.]\n",
      "  [0. 0. 0. 1.]\n",
      "  [0. 0. 0. 1.]\n",
      "  [0. 1. 0. 0.]\n",
      "  [0. 1. 0. 0.]\n",
      "  [0. 0. 0. 0.]\n",
      "  [0. 1. 0. 0.]\n",
      "  [0. 1. 0. 0.]]\n",
      "\n",
      " [[0. 0. 0. 0.]\n",
      "  [0. 1. 0. 0.]\n",
      "  [0. 0. 0. 0.]\n",
      "  [0. 1. 0. 0.]\n",
      "  [0. 0. 0. 0.]\n",
      "  [0. 0. 0. 0.]\n",
      "  [0. 0. 0. 1.]\n",
      "  [0. 1. 0. 0.]\n",
      "  [0. 0. 0. 1.]\n",
      "  [0. 1. 0. 0.]\n",
      "  [0. 1. 0. 0.]\n",
      "  [0. 0. 0. 1.]\n",
      "  [0. 1. 0. 0.]\n",
      "  [0. 1. 0. 0.]\n",
      "  [0. 1. 0. 0.]]\n",
      "\n",
      " [[0. 0. 0. 1.]\n",
      "  [0. 0. 0. 1.]\n",
      "  [0. 0. 0. 1.]\n",
      "  [0. 0. 0. 1.]\n",
      "  [0. 0. 0. 1.]\n",
      "  [0. 1. 0. 0.]\n",
      "  [0. 0. 0. 0.]\n",
      "  [0. 0. 0. 1.]\n",
      "  [0. 0. 0. 1.]\n",
      "  [0. 0. 0. 1.]\n",
      "  [0. 0. 0. 1.]\n",
      "  [0. 1. 0. 0.]\n",
      "  [0. 1. 0. 0.]\n",
      "  [0. 1. 0. 0.]\n",
      "  [0. 1. 0. 0.]]\n",
      "\n",
      " [[0. 0. 0. 0.]\n",
      "  [0. 0. 0. 0.]\n",
      "  [1. 0. 0. 0.]\n",
      "  [0. 0. 0. 0.]\n",
      "  [0. 0. 0. 1.]\n",
      "  [0. 0. 0. 1.]\n",
      "  [0. 0. 0. 1.]\n",
      "  [0. 0. 0. 1.]\n",
      "  [0. 0. 0. 1.]\n",
      "  [0. 0. 0. 1.]\n",
      "  [0. 0. 0. 1.]\n",
      "  [0. 1. 0. 0.]\n",
      "  [0. 1. 0. 0.]\n",
      "  [0. 1. 0. 0.]\n",
      "  [0. 1. 0. 0.]]\n",
      "\n",
      " [[0. 0. 0. 1.]\n",
      "  [0. 0. 0. 1.]\n",
      "  [1. 0. 0. 0.]\n",
      "  [0. 0. 0. 0.]\n",
      "  [1. 0. 0. 0.]\n",
      "  [0. 0. 0. 1.]\n",
      "  [1. 0. 0. 0.]\n",
      "  [0. 0. 0. 0.]\n",
      "  [0. 0. 0. 1.]\n",
      "  [1. 0. 0. 0.]\n",
      "  [0. 0. 0. 0.]\n",
      "  [0. 1. 0. 0.]\n",
      "  [0. 0. 0. 1.]\n",
      "  [0. 1. 0. 0.]\n",
      "  [0. 1. 0. 0.]]\n",
      "\n",
      " [[1. 0. 0. 0.]\n",
      "  [1. 0. 0. 0.]\n",
      "  [0. 0. 0. 0.]\n",
      "  [0. 0. 0. 1.]\n",
      "  [1. 0. 0. 0.]\n",
      "  [0. 0. 0. 0.]\n",
      "  [1. 0. 0. 0.]\n",
      "  [0. 0. 1. 0.]\n",
      "  [0. 0. 0. 0.]\n",
      "  [1. 0. 0. 0.]\n",
      "  [0. 0. 0. 0.]\n",
      "  [0. 0. 0. 1.]\n",
      "  [0. 0. 0. 1.]\n",
      "  [0. 0. 0. 1.]\n",
      "  [0. 0. 0. 0.]]]\n"
     ]
    }
   ],
   "source": [
    "print(pn)"
   ]
  },
  {
   "cell_type": "code",
   "execution_count": 16,
   "metadata": {},
   "outputs": [],
   "source": [
    "pd=get_a_policy(pn)"
   ]
  },
  {
   "cell_type": "code",
   "execution_count": 22,
   "metadata": {},
   "outputs": [
    {
     "data": {
      "image/png": "[encoded data removed]",
      "text/plain": [
       "<Figure size 432x288 with 1 Axes>"
      ]
     },
     "metadata": {
      "needs_background": "light"
     },
     "output_type": "display_data"
    }
   ],
   "source": [
    "visu_policy(v,pd,dict_action,cases)"
   ]
  },
  {
   "cell_type": "code",
   "execution_count": null,
   "metadata": {},
   "outputs": [],
   "source": []
  }
 ],
 "metadata": {
  "kernelspec": {
   "display_name": "Python 3",
   "language": "python",
   "name": "python3"
  },
  "language_info": {
   "codemirror_mode": {
    "name": "ipython",
    "version": 3
   },
   "file_extension": ".py",
   "mimetype": "text/x-python",
   "name": "python",
   "nbconvert_exporter": "python",
   "pygments_lexer": "ipython3",
   "version": "3.8.3"
  }
 },
 "nbformat": 4,
 "nbformat_minor": 4
}
