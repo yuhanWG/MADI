{
 "cells": [
  {
   "cell_type": "code",
   "execution_count": 1,
   "metadata": {},
   "outputs": [],
   "source": [
    "from env import *\n",
    "from fonctions import *\n",
    "import numpy as np\n",
    "import gurobipy as gp\n",
    "from gurobipy import GRB"
   ]
  },
  {
   "cell_type": "markdown",
   "metadata": {},
   "source": [
    "### Test generator"
   ]
  },
  {
   "cell_type": "code",
   "execution_count": 2,
   "metadata": {},
   "outputs": [],
   "source": [
    "env = Env(10,10,0.6,0.2,[0.1,0.2,0.3,0.4])"
   ]
  },
  {
   "cell_type": "code",
   "execution_count": 3,
   "metadata": {},
   "outputs": [],
   "source": [
    "cases=env.reset()"
   ]
  },
  {
   "cell_type": "code",
   "execution_count": 4,
   "metadata": {},
   "outputs": [
    {
     "data": {
      "text/plain": [
       "array([[1, 3, 4, 4, 4, 4, 0, 0, 3, 3],\n",
       "       [4, 0, 0, 4, 4, 0, 3, 4, 3, 4],\n",
       "       [3, 3, 2, 4, 0, 3, 0, 2, 2, 4],\n",
       "       [4, 3, 2, 1, 3, 4, 2, 3, 2, 3],\n",
       "       [3, 4, 3, 3, 0, 3, 1, 3, 0, 0],\n",
       "       [0, 3, 2, 3, 4, 4, 4, 3, 0, 0],\n",
       "       [2, 4, 4, 0, 4, 2, 4, 3, 4, 4],\n",
       "       [3, 4, 4, 3, 3, 3, 2, 2, 0, 4],\n",
       "       [3, 3, 2, 1, 4, 4, 4, 3, 4, 3],\n",
       "       [0, 0, 4, 1, 3, 2, 2, 3, 1, 3]])"
      ]
     },
     "execution_count": 4,
     "metadata": {},
     "output_type": "execute_result"
    }
   ],
   "source": [
    "cases[:,:,0]"
   ]
  },
  {
   "cell_type": "code",
   "execution_count": 5,
   "metadata": {},
   "outputs": [
    {
     "data": {
      "text/plain": [
       "array([[  -1,   -3,   -4,   -4,   -4,   -4,    0,    0,   -3,   -3],\n",
       "       [  -4,    0,    0,   -4,   -4,    0,   -3,   -4,   -3,   -4],\n",
       "       [  -3,   -3,   -2,   -4,    0,   -3,    0,   -2,   -2,   -4],\n",
       "       [  -4,   -3,   -2,   -1,   -3,   -4,   -2,   -3,   -2,   -3],\n",
       "       [  -3,   -4,   -3,   -3,    0,   -3,   -1,   -3,    0,    0],\n",
       "       [   0,   -3,   -2,   -3,   -4,   -4,   -4,   -3,    0,    0],\n",
       "       [  -2,   -4,   -4,    0,   -4,   -2,   -4,   -3,   -4,   -4],\n",
       "       [  -3,   -4,   -4,   -3,   -3,   -3,   -2,   -2,    0,   -4],\n",
       "       [  -3,   -3,   -2,   -1,   -4,   -4,   -4,   -3,   -4,   -3],\n",
       "       [   0,    0,   -4,   -1,   -3,   -2,   -2,   -3,   -1, 1000]])"
      ]
     },
     "execution_count": 5,
     "metadata": {},
     "output_type": "execute_result"
    }
   ],
   "source": [
    "env.reward"
   ]
  },
  {
   "cell_type": "markdown",
   "metadata": {},
   "source": [
    "### Test value iteration"
   ]
  },
  {
   "cell_type": "code",
   "execution_count": 6,
   "metadata": {},
   "outputs": [
    {
     "name": "stdout",
     "output_type": "stream",
     "text": [
      "[[  -1   -9   -2   -3   -3   -4    0    0   -9   -6]\n",
      " [  -5    0    0   -4   -9    0   -4   -8   -7   -9]\n",
      " [  -4   -3   -9   -9    0   -4    0   -2   -8   -9]\n",
      " [  -3   -6   -1   -1   -5   -6   -7   -8   -6   -4]\n",
      " [  -5   -1   -8   -2    0   -6   -7   -2    0    0]\n",
      " [   0   -4   -2   -8   -5   -8   -5   -2    0    0]\n",
      " [  -4   -7   -9    0   -9   -8   -1   -4   -7   -4]\n",
      " [  -6   -5   -8   -6   -8   -2   -4   -9    0   -8]\n",
      " [  -4   -7   -3   -4   -4   -4   -1   -8   -2   -7]\n",
      " [   0    0   -5   -5   -6   -1   -8   -4   -1 1000]]\n"
     ]
    }
   ],
   "source": [
    "nb,v,policy=value_iteration(env,0.9,problem=\"equilibre\")"
   ]
  },
  {
   "cell_type": "code",
   "execution_count": 7,
   "metadata": {},
   "outputs": [],
   "source": [
    "dict_action={0:\"O\",1:\"S\",2:\"W\",3:\"E\"}"
   ]
  },
  {
   "cell_type": "code",
   "execution_count": 8,
   "metadata": {},
   "outputs": [
    {
     "data": {
      "text/plain": [
       "array([[1., 3., 3., 1., 2., 2., 0., 0., 1., 1.],\n",
       "       [1., 0., 0., 1., 2., 0., 3., 1., 1., 1.],\n",
       "       [1., 3., 1., 1., 0., 1., 0., 1., 1., 1.],\n",
       "       [1., 1., 1., 3., 3., 1., 1., 1., 2., 2.],\n",
       "       [3., 1., 3., 1., 0., 1., 1., 1., 0., 0.],\n",
       "       [0., 3., 3., 3., 1., 3., 1., 1., 0., 0.],\n",
       "       [1., 3., 1., 0., 3., 3., 1., 1., 3., 1.],\n",
       "       [3., 3., 3., 3., 3., 3., 1., 1., 0., 1.],\n",
       "       [3., 3., 3., 3., 3., 3., 3., 3., 1., 1.],\n",
       "       [0., 0., 3., 3., 3., 3., 3., 3., 3., 0.]])"
      ]
     },
     "execution_count": 8,
     "metadata": {},
     "output_type": "execute_result"
    }
   ],
   "source": [
    "policy"
   ]
  },
  {
   "cell_type": "code",
   "execution_count": 9,
   "metadata": {},
   "outputs": [
    {
     "data": {
      "text/plain": [
       "array([[147.16601534, 151.71855876, 170.79852468, 187.05802773,\n",
       "        170.79852468, 153.56575715,   0.        ,   0.        ,\n",
       "        259.60919876, 239.59336561],\n",
       "       [169.07347067,   0.        ,   0.        , 218.4265595 ,\n",
       "        193.28287984,   0.        , 292.14206205, 323.09359594,\n",
       "        296.97779842, 270.46855877],\n",
       "       [188.73954566, 205.4501751 , 230.98966271, 258.12280853,\n",
       "          0.        , 323.40861789,   0.        , 368.41485007,\n",
       "        339.08279948, 303.1022986 ],\n",
       "       [209.20003042, 231.75297486, 258.54234676, 287.00700866,\n",
       "        324.45223189, 368.0226282 , 401.52776075, 434.12059104,\n",
       "        383.97074434, 331.09383981],\n",
       "       [231.28728626, 260.40660184, 292.78722092, 327.57810776,\n",
       "          0.        , 406.14700809, 454.42656876, 493.5052898 ,\n",
       "          0.        ,   0.        ],\n",
       "       [  0.        , 286.40104008, 321.09918429, 373.52100681,\n",
       "        412.66061624, 456.656721  , 511.51926571, 561.1553083 ,\n",
       "          0.        ,   0.        ],\n",
       "       [285.73199222, 318.95437684, 360.58767147,   0.        ,\n",
       "        456.69646178, 514.66202087, 573.552973  , 623.1194252 ,\n",
       "        696.84046418, 760.91354803],\n",
       "       [315.3119386 , 358.37442489, 410.21767269, 453.12628742,\n",
       "        513.13092356, 574.33755961, 640.38859791, 716.45760774,\n",
       "          0.        , 854.3483867 ],\n",
       "       [338.61924187, 389.87756305, 439.72833762, 497.59303193,\n",
       "        562.39014212, 633.05265337, 711.6010089 , 806.52541946,\n",
       "        879.14277575, 975.14262092],\n",
       "       [  0.        ,   0.        , 461.02822031, 522.58538134,\n",
       "        592.99327189, 667.56082539, 758.43422748, 858.41618331,\n",
       "        974.12567177,   0.        ]])"
      ]
     },
     "execution_count": 9,
     "metadata": {},
     "output_type": "execute_result"
    }
   ],
   "source": [
    "v"
   ]
  },
  {
   "cell_type": "markdown",
   "metadata": {},
   "source": [
    "### Test visualisation de politique"
   ]
  },
  {
   "cell_type": "code",
   "execution_count": 10,
   "metadata": {},
   "outputs": [
    {
     "data": {
      "image/png": "[encoded data removed]",
      "text/plain": [
       "<Figure size 432x288 with 1 Axes>"
      ]
     },
     "metadata": {
      "needs_background": "light"
     },
     "output_type": "display_data"
    }
   ],
   "source": [
    "visu_policy(v,policy,dict_action,cases)"
   ]
  },
  {
   "cell_type": "code",
   "execution_count": 10,
   "metadata": {},
   "outputs": [
    {
     "data": {
      "image/png": "[encoded data removed]",
      "text/plain": [
       "<Figure size 432x288 with 1 Axes>"
      ]
     },
     "metadata": {
      "needs_background": "light"
     },
     "output_type": "display_data"
    }
   ],
   "source": [
    "visu_policy(v,policy,dict_action,cases)"
   ]
  },
  {
   "cell_type": "markdown",
   "metadata": {},
   "source": [
    "### Test programmation lineaire de politique mixte"
   ]
  },
  {
   "cell_type": "code",
   "execution_count": 18,
   "metadata": {},
   "outputs": [],
   "source": [
    "p,v2=dual_pl_mono(env,0.9)"
   ]
  },
  {
   "cell_type": "code",
   "execution_count": 19,
   "metadata": {},
   "outputs": [],
   "source": [
    "pn=normalise(p)"
   ]
  },
  {
   "cell_type": "code",
   "execution_count": 20,
   "metadata": {},
   "outputs": [
    {
     "name": "stdout",
     "output_type": "stream",
     "text": [
      "[[[0. 0. 0. 1.]\n",
      "  [0. 0. 0. 1.]\n",
      "  [0. 0. 0. 1.]\n",
      "  [0. 0. 0. 1.]\n",
      "  [0. 1. 0. 0.]\n",
      "  [0. 0. 0. 0.]\n",
      "  [0. 0. 0. 1.]\n",
      "  [0. 0. 0. 1.]\n",
      "  [0. 1. 0. 0.]\n",
      "  [0. 0. 1. 0.]\n",
      "  [0. 0. 0. 0.]\n",
      "  [0. 1. 0. 0.]\n",
      "  [0. 1. 0. 0.]\n",
      "  [0. 0. 0. 0.]\n",
      "  [0. 0. 1. 0.]]\n",
      "\n",
      " [[0. 0. 0. 1.]\n",
      "  [0. 1. 0. 0.]\n",
      "  [0. 0. 0. 0.]\n",
      "  [0. 0. 0. 1.]\n",
      "  [0. 0. 0. 1.]\n",
      "  [0. 0. 0. 1.]\n",
      "  [0. 0. 0. 1.]\n",
      "  [0. 1. 0. 0.]\n",
      "  [0. 1. 0. 0.]\n",
      "  [0. 0. 0. 0.]\n",
      "  [0. 1. 0. 0.]\n",
      "  [0. 1. 0. 0.]\n",
      "  [0. 1. 0. 0.]\n",
      "  [0. 1. 0. 0.]\n",
      "  [0. 0. 0. 0.]]\n",
      "\n",
      " [[0. 0. 0. 1.]\n",
      "  [0. 0. 0. 1.]\n",
      "  [0. 1. 0. 0.]\n",
      "  [0. 0. 0. 0.]\n",
      "  [0. 0. 0. 1.]\n",
      "  [0. 0. 0. 1.]\n",
      "  [0. 0. 0. 1.]\n",
      "  [0. 0. 0. 1.]\n",
      "  [0. 0. 0. 1.]\n",
      "  [0. 1. 0. 0.]\n",
      "  [0. 1. 0. 0.]\n",
      "  [0. 1. 0. 0.]\n",
      "  [0. 1. 0. 0.]\n",
      "  [0. 0. 1. 0.]\n",
      "  [0. 0. 1. 0.]]\n",
      "\n",
      " [[0. 0. 0. 0.]\n",
      "  [0. 0. 0. 0.]\n",
      "  [0. 0. 0. 1.]\n",
      "  [0. 0. 0. 1.]\n",
      "  [0. 0. 0. 1.]\n",
      "  [0. 0. 0. 1.]\n",
      "  [0. 0. 0. 1.]\n",
      "  [0. 0. 0. 1.]\n",
      "  [0. 1. 0. 0.]\n",
      "  [0. 1. 0. 0.]\n",
      "  [0. 1. 0. 0.]\n",
      "  [0. 1. 0. 0.]\n",
      "  [0. 0. 1. 0.]\n",
      "  [0. 0. 0. 0.]\n",
      "  [0. 0. 0. 0.]]\n",
      "\n",
      " [[0. 0. 0. 0.]\n",
      "  [0. 0. 0. 1.]\n",
      "  [0. 0. 0. 1.]\n",
      "  [0. 1. 0. 0.]\n",
      "  [0. 0. 0. 1.]\n",
      "  [1. 0. 0. 0.]\n",
      "  [0. 0. 0. 0.]\n",
      "  [0. 0. 0. 0.]\n",
      "  [0. 0. 0. 1.]\n",
      "  [0. 0. 0. 1.]\n",
      "  [0. 1. 0. 0.]\n",
      "  [0. 1. 0. 0.]\n",
      "  [0. 0. 0. 0.]\n",
      "  [0. 1. 0. 0.]\n",
      "  [0. 1. 0. 0.]]\n",
      "\n",
      " [[0. 0. 0. 0.]\n",
      "  [0. 1. 0. 0.]\n",
      "  [0. 0. 0. 0.]\n",
      "  [0. 1. 0. 0.]\n",
      "  [0. 0. 0. 0.]\n",
      "  [0. 0. 0. 0.]\n",
      "  [0. 0. 0. 1.]\n",
      "  [0. 1. 0. 0.]\n",
      "  [0. 0. 0. 1.]\n",
      "  [0. 1. 0. 0.]\n",
      "  [0. 1. 0. 0.]\n",
      "  [0. 0. 0. 1.]\n",
      "  [0. 1. 0. 0.]\n",
      "  [0. 1. 0. 0.]\n",
      "  [0. 1. 0. 0.]]\n",
      "\n",
      " [[0. 0. 0. 1.]\n",
      "  [0. 0. 0. 1.]\n",
      "  [0. 0. 0. 1.]\n",
      "  [0. 0. 0. 1.]\n",
      "  [0. 0. 0. 1.]\n",
      "  [0. 1. 0. 0.]\n",
      "  [0. 0. 0. 0.]\n",
      "  [0. 0. 0. 1.]\n",
      "  [0. 0. 0. 1.]\n",
      "  [0. 0. 0. 1.]\n",
      "  [0. 0. 0. 1.]\n",
      "  [0. 1. 0. 0.]\n",
      "  [0. 1. 0. 0.]\n",
      "  [0. 1. 0. 0.]\n",
      "  [0. 1. 0. 0.]]\n",
      "\n",
      " [[0. 0. 0. 0.]\n",
      "  [0. 0. 0. 0.]\n",
      "  [1. 0. 0. 0.]\n",
      "  [0. 0. 0. 0.]\n",
      "  [0. 0. 0. 1.]\n",
      "  [0. 0. 0. 1.]\n",
      "  [0. 0. 0. 1.]\n",
      "  [0. 0. 0. 1.]\n",
      "  [0. 0. 0. 1.]\n",
      "  [0. 0. 0. 1.]\n",
      "  [0. 0. 0. 1.]\n",
      "  [0. 1. 0. 0.]\n",
      "  [0. 1. 0. 0.]\n",
      "  [0. 1. 0. 0.]\n",
      "  [0. 1. 0. 0.]]\n",
      "\n",
      " [[0. 0. 0. 1.]\n",
      "  [0. 0. 0. 1.]\n",
      "  [1. 0. 0. 0.]\n",
      "  [0. 0. 0. 0.]\n",
      "  [1. 0. 0. 0.]\n",
      "  [0. 0. 0. 1.]\n",
      "  [1. 0. 0. 0.]\n",
      "  [0. 0. 0. 0.]\n",
      "  [0. 0. 0. 1.]\n",
      "  [1. 0. 0. 0.]\n",
      "  [0. 0. 0. 0.]\n",
      "  [0. 1. 0. 0.]\n",
      "  [0. 0. 0. 1.]\n",
      "  [0. 1. 0. 0.]\n",
      "  [0. 1. 0. 0.]]\n",
      "\n",
      " [[1. 0. 0. 0.]\n",
      "  [1. 0. 0. 0.]\n",
      "  [0. 0. 0. 0.]\n",
      "  [0. 0. 0. 1.]\n",
      "  [1. 0. 0. 0.]\n",
      "  [0. 0. 0. 0.]\n",
      "  [1. 0. 0. 0.]\n",
      "  [0. 0. 1. 0.]\n",
      "  [0. 0. 0. 0.]\n",
      "  [1. 0. 0. 0.]\n",
      "  [0. 0. 0. 0.]\n",
      "  [0. 0. 0. 1.]\n",
      "  [0. 0. 0. 1.]\n",
      "  [0. 0. 0. 1.]\n",
      "  [0. 0. 0. 0.]]]\n"
     ]
    }
   ],
   "source": [
    "print(pn)"
   ]
  },
  {
   "cell_type": "code",
   "execution_count": 16,
   "metadata": {},
   "outputs": [],
   "source": [
    "pd=get_a_policy(pn)"
   ]
  },
  {
   "cell_type": "code",
   "execution_count": 22,
   "metadata": {},
   "outputs": [
    {
     "data": {
      "image/png": "[encoded data removed]",
      "text/plain": [
       "<Figure size 432x288 with 1 Axes>"
      ]
     },
     "metadata": {
      "needs_background": "light"
     },
     "output_type": "display_data"
    }
   ],
   "source": [
    "visu_policy(v,pd,dict_action,cases)"
   ]
  },
  {
   "cell_type": "code",
   "execution_count": null,
   "metadata": {},
   "outputs": [],
   "source": []
  }
 ],
 "metadata": {
  "kernelspec": {
   "display_name": "Python 3",
   "language": "python",
   "name": "python3"
  },
  "language_info": {
   "codemirror_mode": {
    "name": "ipython",
    "version": 3
   },
   "file_extension": ".py",
   "mimetype": "text/x-python",
   "name": "python",
   "nbconvert_exporter": "python",
   "pygments_lexer": "ipython3",
   "version": "3.8.3"
  }
 },
 "nbformat": 4,
 "nbformat_minor": 4
}
