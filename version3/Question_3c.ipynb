{
 "cells": [
  {
   "cell_type": "code",
   "execution_count": 1,
   "metadata": {},
   "outputs": [],
   "source": [
    "from env import *\n",
    "from fonctions import *\n",
    "import numpy as np\n",
    "import gurobipy as gp\n",
    "from gurobipy import GRB\n",
    "import time"
   ]
  },
  {
   "cell_type": "code",
   "execution_count": 2,
   "metadata": {},
   "outputs": [],
   "source": [
    "nblig=10\n",
    "nbcol=15\n",
    "N=15\n",
    "P=[1,0.6]"
   ]
  },
  {
   "cell_type": "code",
   "execution_count": 11,
   "metadata": {},
   "outputs": [],
   "source": [
    "t = np.zeros(len(P))\n",
    "v = np.zeros(len(P))\n",
    "tp = np.zeros(len(P))\n",
    "vp = np.zeros(len(P))\n",
    "for j in range(len(P)):\n",
    "    p = P[j]\n",
    "    env = Env(nblig,nbcol,p,0.2,[0.1,0.2,0.3,0.4]) \n",
    "    for i in range(N):\n",
    "        cases=env.reset()\n",
    "        ts = time.time()\n",
    "        p,val=dual_pl_mono(env,0.9)\n",
    "        te = time.time()\n",
    "        t[j]+=te-ts\n",
    "        v[j]+=val\n",
    "        ts2 = time.time()\n",
    "        pp,valp =dual_pl_mono(env,0.99,True)\n",
    "        te2 = time.time()\n",
    "        tp[j]+=te2-ts2\n",
    "        vp[j]+=valp\n",
    "t=t/N\n",
    "v=v/N\n",
    "tp=tp/N\n",
    "vp=vp/N"
   ]
  },
  {
   "cell_type": "code",
   "execution_count": 12,
   "metadata": {},
   "outputs": [
    {
     "data": {
      "text/plain": [
       "array([0.16603204, 0.14292528])"
      ]
     },
     "execution_count": 12,
     "metadata": {},
     "output_type": "execute_result"
    }
   ],
   "source": [
    "t"
   ]
  },
  {
   "cell_type": "code",
   "execution_count": 13,
   "metadata": {},
   "outputs": [
    {
     "data": {
      "text/plain": [
       "array([53104.50894342, 52476.64989091])"
      ]
     },
     "execution_count": 13,
     "metadata": {},
     "output_type": "execute_result"
    }
   ],
   "source": [
    "v"
   ]
  },
  {
   "cell_type": "code",
   "execution_count": 14,
   "metadata": {},
   "outputs": [
    {
     "data": {
      "text/plain": [
       "array([0.20940493, 0.34352508])"
      ]
     },
     "execution_count": 14,
     "metadata": {},
     "output_type": "execute_result"
    }
   ],
   "source": [
    "tp"
   ]
  },
  {
   "cell_type": "code",
   "execution_count": 15,
   "metadata": {},
   "outputs": [
    {
     "data": {
      "text/plain": [
       "array([128396.77054409, 127336.07777431])"
      ]
     },
     "execution_count": 15,
     "metadata": {},
     "output_type": "execute_result"
    }
   ],
   "source": [
    "vp"
   ]
  },
  {
   "cell_type": "code",
   "execution_count": 17,
   "metadata": {},
   "outputs": [],
   "source": [
    "gamma = [0.9,0.7,0.5]\n",
    "p = 0.6\n",
    "\n",
    "t = np.zeros(len(gamma))\n",
    "v = np.zeros(len(gamma))\n",
    "for j in range(len(gamma)):\n",
    "    g = gamma[j]\n",
    "    env = Env(nblig,nbcol,p,0.2,[0.1,0.2,0.3,0.4]) \n",
    "    for i in range(N):\n",
    "        cases=env.reset()\n",
    "        ts = time.time()\n",
    "        policy,val=dual_pl_mono(env,g)\n",
    "        te = time.time()\n",
    "        t[j]+=te-ts\n",
    "        v[j]+=val\n",
    "t=t/N\n",
    "v=v/N"
   ]
  },
  {
   "cell_type": "code",
   "execution_count": 18,
   "metadata": {},
   "outputs": [
    {
     "data": {
      "text/plain": [
       "array([0.15252948, 0.15144623, 0.12779689])"
      ]
     },
     "execution_count": 18,
     "metadata": {},
     "output_type": "execute_result"
    }
   ],
   "source": [
    "t"
   ]
  },
  {
   "cell_type": "code",
   "execution_count": 19,
   "metadata": {},
   "outputs": [
    {
     "data": {
      "text/plain": [
       "array([53112.20456081, 12944.35646844,  5321.6847292 ])"
      ]
     },
     "execution_count": 19,
     "metadata": {},
     "output_type": "execute_result"
    }
   ],
   "source": [
    "v"
   ]
  },
  {
   "cell_type": "code",
   "execution_count": null,
   "metadata": {},
   "outputs": [],
   "source": []
  }
 ],
 "metadata": {
  "kernelspec": {
   "display_name": "Python 3",
   "language": "python",
   "name": "python3"
  },
  "language_info": {
   "codemirror_mode": {
    "name": "ipython",
    "version": 3
   },
   "file_extension": ".py",
   "mimetype": "text/x-python",
   "name": "python",
   "nbconvert_exporter": "python",
   "pygments_lexer": "ipython3",
   "version": "3.8.3"
  }
 },
 "nbformat": 4,
 "nbformat_minor": 4
}
