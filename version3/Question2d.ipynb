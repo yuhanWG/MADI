{
 "cells": [
  {
   "cell_type": "code",
   "execution_count": 68,
   "metadata": {},
   "outputs": [],
   "source": [
    "def policy_iteration2(env,gamma):\n",
    "    nblignes,nbColonnes = env.state_space\n",
    "    action_space = np.ones((nblignes,nbColonnes,len(env.action_space)))\n",
    "    #print(action_space.shape)\n",
    "    reward = np.zeros((nblignes,nbColonnes))\n",
    "    keys = [\"noir\",\"rouge\",\"bleu\",\"vert\"]\n",
    "    threshold = 0.001\n",
    "    \n",
    "    for k in keys:\n",
    "        print(k)\n",
    "        label = env.DictCouleur[k]\n",
    "        \n",
    "        # mise a jour des recompenses\n",
    "        for i in range(nblignes):\n",
    "            for j in range(nbColonnes):\n",
    "                if env.cases[i,j,0]>=label:\n",
    "                    reward[i,j] = env.reward[i,j]\n",
    "        reward[-1,-1]=1000\n",
    "        \n",
    "        print(reward)\n",
    "        \n",
    "        # value iteration begin\n",
    "        delta = 1\n",
    "        value_table = np.zeros((nblignes,nbColonnes))\n",
    "        \n",
    "        while(delta>threshold):\n",
    "            delta = 0\n",
    "            current_values = value_table.copy()\n",
    "            for li in range(nblignes):\n",
    "                for cj in range(nbColonnes):\n",
    "                    if not(li==nblignes-1 and cj==nbColonnes-1):\n",
    "                        if env.cases[li,cj,0]>0:\n",
    "                            Qs_a=[]\n",
    "                            for a in range(len(env.action_space)):\n",
    "                                action = env.action_space[a]\n",
    "                                if action_space[li,cj,a]>0:\n",
    "                                    next_state,proba_transition = env.step(li,cj,action)\n",
    "                                    v_s = [value_table[s] for s in next_state]\n",
    "                                    R = [reward[s] for s in next_state]\n",
    "                                    Rs = np.sum(np.array(R)*np.array(proba_transition))\n",
    "                                    Qs_a.append(Rs+gamma*np.sum(np.array(proba_transition)*np.array(v_s)))\n",
    "                                else:\n",
    "                                    Qs_a.append(0)\n",
    "                            current_values[li,cj] = max(Qs_a)\n",
    "                    delta = max(delta, np.abs(value_table[li,cj]-current_values[li,cj]))\n",
    "        \n",
    "        #policy determination\n",
    "        for i in range(nblignes):\n",
    "            for j in range(nbColonnes):\n",
    "                if not(i==nblignes-1 and j==nbColonnes-1):\n",
    "                    if env.cases[i,j,0]>0:\n",
    "                        Qs_a=[]\n",
    "                        for a in range(len(env.action_space)):\n",
    "                            action = env.action_space[a]\n",
    "                            #print(action)\n",
    "                            if action_space[li,cj,a]>0:\n",
    "                                next_state,proba_transition = env.step(li,cj,action)\n",
    "                                v_s = [value_table[s] for s in next_state]\n",
    "                                R = [reward[s] for s in next_state]\n",
    "                                Rs = np.sum(np.array(R)*np.array(proba_transition))\n",
    "                                Qs_a.append(Rs+gamma*np.sum(np.array(proba_transition)*np.array(v_s)))\n",
    "                            else:\n",
    "                                Qs_a.append(0)\n",
    "                        Qs_a = np.array(Qs_a)\n",
    "                        #print(\"Qs_a\",len(Qs_a))\n",
    "                        best_value = np.max(Qs_a)\n",
    "                        index = np.where(Qs_a==best_value)[0]\n",
    "                        for x in range(len(action_space[i,j,:])):\n",
    "                            #print(x)\n",
    "                            #print(index)\n",
    "                            if x not in index:\n",
    "                                action_space[i,j,x]=0\n",
    "\n",
    "\n",
    "        #print(reward)\n",
    "    return action_space\n",
    "        "
   ]
  },
  {
   "cell_type": "code",
   "execution_count": 41,
   "metadata": {},
   "outputs": [],
   "source": [
    "from env import *\n",
    "from fonctions import *"
   ]
  },
  {
   "cell_type": "code",
   "execution_count": 42,
   "metadata": {},
   "outputs": [],
   "source": [
    "env = Env(10,15,0.8,0.2,[0.1,0.2,0.3,0.4])"
   ]
  },
  {
   "cell_type": "code",
   "execution_count": 43,
   "metadata": {},
   "outputs": [],
   "source": [
    "cases=env.reset()"
   ]
  },
  {
   "cell_type": "code",
   "execution_count": 44,
   "metadata": {},
   "outputs": [
    {
     "data": {
      "text/plain": [
       "array([[1, 1, 4, 0, 4, 4, 3, 3, 0, 4, 4, 4, 2, 3, 0],\n",
       "       [4, 2, 2, 3, 3, 4, 4, 0, 1, 0, 4, 4, 4, 3, 4],\n",
       "       [0, 1, 4, 4, 4, 0, 1, 4, 2, 3, 3, 4, 4, 4, 0],\n",
       "       [4, 4, 3, 4, 2, 4, 3, 2, 4, 4, 3, 2, 3, 4, 3],\n",
       "       [3, 4, 4, 3, 1, 3, 0, 3, 2, 4, 4, 3, 3, 0, 2],\n",
       "       [3, 0, 4, 2, 2, 4, 2, 2, 2, 4, 1, 0, 4, 4, 3],\n",
       "       [3, 2, 2, 4, 0, 3, 2, 2, 4, 1, 4, 3, 4, 4, 4],\n",
       "       [3, 4, 4, 3, 0, 4, 1, 4, 3, 3, 1, 4, 4, 4, 3],\n",
       "       [3, 2, 0, 3, 4, 2, 4, 3, 4, 0, 0, 4, 2, 3, 1],\n",
       "       [3, 2, 0, 3, 2, 2, 2, 1, 4, 3, 4, 2, 0, 3, 3]])"
      ]
     },
     "execution_count": 44,
     "metadata": {},
     "output_type": "execute_result"
    }
   ],
   "source": [
    "env.cases[:,:,0]"
   ]
  },
  {
   "cell_type": "code",
   "execution_count": 70,
   "metadata": {},
   "outputs": [
    {
     "name": "stdout",
     "output_type": "stream",
     "text": [
      "noir\n",
      "[[   0.    0.   -4.    0.   -4.   -4.    0.    0.    0.   -4.   -4.   -4.\n",
      "     0.    0.    0.]\n",
      " [  -4.    0.    0.    0.    0.   -4.   -4.    0.    0.    0.   -4.   -4.\n",
      "    -4.    0.   -4.]\n",
      " [   0.    0.   -4.   -4.   -4.    0.    0.   -4.    0.    0.    0.   -4.\n",
      "    -4.   -4.    0.]\n",
      " [  -4.   -4.    0.   -4.    0.   -4.    0.    0.   -4.   -4.    0.    0.\n",
      "     0.   -4.    0.]\n",
      " [   0.   -4.   -4.    0.    0.    0.    0.    0.    0.   -4.   -4.    0.\n",
      "     0.    0.    0.]\n",
      " [   0.    0.   -4.    0.    0.   -4.    0.    0.    0.   -4.    0.    0.\n",
      "    -4.   -4.    0.]\n",
      " [   0.    0.    0.   -4.    0.    0.    0.    0.   -4.    0.   -4.    0.\n",
      "    -4.   -4.   -4.]\n",
      " [   0.   -4.   -4.    0.    0.   -4.    0.   -4.    0.    0.    0.   -4.\n",
      "    -4.   -4.    0.]\n",
      " [   0.    0.    0.    0.   -4.    0.   -4.    0.   -4.    0.    0.   -4.\n",
      "     0.    0.    0.]\n",
      " [   0.    0.    0.    0.    0.    0.    0.    0.   -4.    0.   -4.    0.\n",
      "     0.    0. 1000.]]\n"
     ]
    },
    {
     "ename": "KeyboardInterrupt",
     "evalue": "",
     "output_type": "error",
     "traceback": [
      "\u001b[0;31m---------------------------------------------------------------------------\u001b[0m",
      "\u001b[0;31mKeyboardInterrupt\u001b[0m                         Traceback (most recent call last)",
      "\u001b[0;32m<ipython-input-70-26f74fc541b2>\u001b[0m in \u001b[0;36m<module>\u001b[0;34m\u001b[0m\n\u001b[0;32m----> 1\u001b[0;31m \u001b[0mpolicy_iteration2\u001b[0m\u001b[0;34m(\u001b[0m\u001b[0menv\u001b[0m\u001b[0;34m,\u001b[0m\u001b[0;36m0.6\u001b[0m\u001b[0;34m)\u001b[0m\u001b[0;34m\u001b[0m\u001b[0;34m\u001b[0m\u001b[0m\n\u001b[0m",
      "\u001b[0;32m<ipython-input-68-ad1f689b6ee6>\u001b[0m in \u001b[0;36mpolicy_iteration2\u001b[0;34m(env, gamma)\u001b[0m\n\u001b[1;32m     35\u001b[0m                                 \u001b[0maction\u001b[0m \u001b[0;34m=\u001b[0m \u001b[0menv\u001b[0m\u001b[0;34m.\u001b[0m\u001b[0maction_space\u001b[0m\u001b[0;34m[\u001b[0m\u001b[0ma\u001b[0m\u001b[0;34m]\u001b[0m\u001b[0;34m\u001b[0m\u001b[0;34m\u001b[0m\u001b[0m\n\u001b[1;32m     36\u001b[0m                                 \u001b[0;32mif\u001b[0m \u001b[0maction_space\u001b[0m\u001b[0;34m[\u001b[0m\u001b[0mli\u001b[0m\u001b[0;34m,\u001b[0m\u001b[0mcj\u001b[0m\u001b[0;34m,\u001b[0m\u001b[0ma\u001b[0m\u001b[0;34m]\u001b[0m\u001b[0;34m>\u001b[0m\u001b[0;36m0\u001b[0m\u001b[0;34m:\u001b[0m\u001b[0;34m\u001b[0m\u001b[0;34m\u001b[0m\u001b[0m\n\u001b[0;32m---> 37\u001b[0;31m                                     \u001b[0mnext_state\u001b[0m\u001b[0;34m,\u001b[0m\u001b[0mproba_transition\u001b[0m \u001b[0;34m=\u001b[0m \u001b[0menv\u001b[0m\u001b[0;34m.\u001b[0m\u001b[0mstep\u001b[0m\u001b[0;34m(\u001b[0m\u001b[0mli\u001b[0m\u001b[0;34m,\u001b[0m\u001b[0mcj\u001b[0m\u001b[0;34m,\u001b[0m\u001b[0maction\u001b[0m\u001b[0;34m)\u001b[0m\u001b[0;34m\u001b[0m\u001b[0;34m\u001b[0m\u001b[0m\n\u001b[0m\u001b[1;32m     38\u001b[0m                                     \u001b[0mv_s\u001b[0m \u001b[0;34m=\u001b[0m \u001b[0;34m[\u001b[0m\u001b[0mvalue_table\u001b[0m\u001b[0;34m[\u001b[0m\u001b[0ms\u001b[0m\u001b[0;34m]\u001b[0m \u001b[0;32mfor\u001b[0m \u001b[0ms\u001b[0m \u001b[0;32min\u001b[0m \u001b[0mnext_state\u001b[0m\u001b[0;34m]\u001b[0m\u001b[0;34m\u001b[0m\u001b[0;34m\u001b[0m\u001b[0m\n\u001b[1;32m     39\u001b[0m                                     \u001b[0mR\u001b[0m \u001b[0;34m=\u001b[0m \u001b[0;34m[\u001b[0m\u001b[0mreward\u001b[0m\u001b[0;34m[\u001b[0m\u001b[0ms\u001b[0m\u001b[0;34m]\u001b[0m \u001b[0;32mfor\u001b[0m \u001b[0ms\u001b[0m \u001b[0;32min\u001b[0m \u001b[0mnext_state\u001b[0m\u001b[0;34m]\u001b[0m\u001b[0;34m\u001b[0m\u001b[0;34m\u001b[0m\u001b[0m\n",
      "\u001b[0;32m~/src/MADI/version3/env.py\u001b[0m in \u001b[0;36mstep\u001b[0;34m(self, li, cj, a)\u001b[0m\n\u001b[1;32m    153\u001b[0m                 \u001b[0mc\u001b[0m \u001b[0;34m=\u001b[0m \u001b[0mnp\u001b[0m\u001b[0;34m.\u001b[0m\u001b[0marray\u001b[0m\u001b[0;34m(\u001b[0m\u001b[0mc\u001b[0m\u001b[0;34m)\u001b[0m\u001b[0;34m\u001b[0m\u001b[0;34m\u001b[0m\u001b[0m\n\u001b[1;32m    154\u001b[0m                 \u001b[0mindex\u001b[0m \u001b[0;34m=\u001b[0m \u001b[0mnp\u001b[0m\u001b[0;34m.\u001b[0m\u001b[0mwhere\u001b[0m\u001b[0;34m(\u001b[0m\u001b[0mc\u001b[0m\u001b[0;34m!=\u001b[0m\u001b[0;36m0\u001b[0m\u001b[0;34m)\u001b[0m\u001b[0;34m[\u001b[0m\u001b[0;36m0\u001b[0m\u001b[0;34m]\u001b[0m\u001b[0;34m\u001b[0m\u001b[0;34m\u001b[0m\u001b[0m\n\u001b[0;32m--> 155\u001b[0;31m                 \u001b[0mnext_state\u001b[0m \u001b[0;34m=\u001b[0m \u001b[0;34m[\u001b[0m\u001b[0mnext_state\u001b[0m\u001b[0;34m[\u001b[0m\u001b[0mi\u001b[0m\u001b[0;34m]\u001b[0m \u001b[0;32mfor\u001b[0m \u001b[0mi\u001b[0m \u001b[0;32min\u001b[0m \u001b[0mindex\u001b[0m\u001b[0;34m]\u001b[0m\u001b[0;34m\u001b[0m\u001b[0;34m\u001b[0m\u001b[0m\n\u001b[0m\u001b[1;32m    156\u001b[0m \u001b[0;34m\u001b[0m\u001b[0m\n\u001b[1;32m    157\u001b[0m                 \u001b[0;32mif\u001b[0m\u001b[0;34m(\u001b[0m\u001b[0mlen\u001b[0m\u001b[0;34m(\u001b[0m\u001b[0mnext_state\u001b[0m\u001b[0;34m)\u001b[0m\u001b[0;34m==\u001b[0m\u001b[0;36m1\u001b[0m\u001b[0;34m)\u001b[0m\u001b[0;34m:\u001b[0m\u001b[0;34m\u001b[0m\u001b[0;34m\u001b[0m\u001b[0m\n",
      "\u001b[0;32m~/src/MADI/version3/env.py\u001b[0m in \u001b[0;36m<listcomp>\u001b[0;34m(.0)\u001b[0m\n\u001b[1;32m    153\u001b[0m                 \u001b[0mc\u001b[0m \u001b[0;34m=\u001b[0m \u001b[0mnp\u001b[0m\u001b[0;34m.\u001b[0m\u001b[0marray\u001b[0m\u001b[0;34m(\u001b[0m\u001b[0mc\u001b[0m\u001b[0;34m)\u001b[0m\u001b[0;34m\u001b[0m\u001b[0;34m\u001b[0m\u001b[0m\n\u001b[1;32m    154\u001b[0m                 \u001b[0mindex\u001b[0m \u001b[0;34m=\u001b[0m \u001b[0mnp\u001b[0m\u001b[0;34m.\u001b[0m\u001b[0mwhere\u001b[0m\u001b[0;34m(\u001b[0m\u001b[0mc\u001b[0m\u001b[0;34m!=\u001b[0m\u001b[0;36m0\u001b[0m\u001b[0;34m)\u001b[0m\u001b[0;34m[\u001b[0m\u001b[0;36m0\u001b[0m\u001b[0;34m]\u001b[0m\u001b[0;34m\u001b[0m\u001b[0;34m\u001b[0m\u001b[0m\n\u001b[0;32m--> 155\u001b[0;31m                 \u001b[0mnext_state\u001b[0m \u001b[0;34m=\u001b[0m \u001b[0;34m[\u001b[0m\u001b[0mnext_state\u001b[0m\u001b[0;34m[\u001b[0m\u001b[0mi\u001b[0m\u001b[0;34m]\u001b[0m \u001b[0;32mfor\u001b[0m \u001b[0mi\u001b[0m \u001b[0;32min\u001b[0m \u001b[0mindex\u001b[0m\u001b[0;34m]\u001b[0m\u001b[0;34m\u001b[0m\u001b[0;34m\u001b[0m\u001b[0m\n\u001b[0m\u001b[1;32m    156\u001b[0m \u001b[0;34m\u001b[0m\u001b[0m\n\u001b[1;32m    157\u001b[0m                 \u001b[0;32mif\u001b[0m\u001b[0;34m(\u001b[0m\u001b[0mlen\u001b[0m\u001b[0;34m(\u001b[0m\u001b[0mnext_state\u001b[0m\u001b[0;34m)\u001b[0m\u001b[0;34m==\u001b[0m\u001b[0;36m1\u001b[0m\u001b[0;34m)\u001b[0m\u001b[0;34m:\u001b[0m\u001b[0;34m\u001b[0m\u001b[0;34m\u001b[0m\u001b[0m\n",
      "\u001b[0;31mKeyboardInterrupt\u001b[0m: "
     ]
    }
   ],
   "source": [
    "policy_iteration2(env,0.6)"
   ]
  },
  {
   "cell_type": "code",
   "execution_count": null,
   "metadata": {},
   "outputs": [],
   "source": []
  }
 ],
 "metadata": {
  "kernelspec": {
   "display_name": "Python 3",
   "language": "python",
   "name": "python3"
  },
  "language_info": {
   "codemirror_mode": {
    "name": "ipython",
    "version": 3
   },
   "file_extension": ".py",
   "mimetype": "text/x-python",
   "name": "python",
   "nbconvert_exporter": "python",
   "pygments_lexer": "ipython3",
   "version": "3.8.3"
  }
 },
 "nbformat": 4,
 "nbformat_minor": 4
}
