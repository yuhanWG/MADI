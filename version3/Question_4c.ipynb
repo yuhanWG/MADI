{
 "cells": [
  {
   "cell_type": "code",
   "execution_count": 1,
   "metadata": {},
   "outputs": [],
   "source": [
    "from env import *\n",
    "from fonctions import *\n",
    "import numpy as np\n",
    "import gurobipy as gp\n",
    "from gurobipy import GRB"
   ]
  },
  {
   "cell_type": "code",
   "execution_count": 2,
   "metadata": {},
   "outputs": [],
   "source": [
    "env=Env(10,10,1,0.1,[0.1,0.2,0.3,0.4])"
   ]
  },
  {
   "cell_type": "code",
   "execution_count": 13,
   "metadata": {},
   "outputs": [],
   "source": [
    "cases=env.reset()"
   ]
  },
  {
   "cell_type": "code",
   "execution_count": 14,
   "metadata": {},
   "outputs": [
    {
     "data": {
      "text/plain": [
       "array([[1, 1, 2, 3, 3, 3, 4, 1, 2, 3],\n",
       "       [3, 2, 2, 4, 1, 2, 4, 3, 3, 3],\n",
       "       [4, 3, 3, 4, 4, 3, 0, 3, 2, 3],\n",
       "       [4, 4, 1, 3, 2, 2, 3, 4, 4, 3],\n",
       "       [1, 1, 2, 4, 4, 1, 2, 1, 4, 3],\n",
       "       [4, 2, 4, 3, 2, 3, 3, 3, 4, 1],\n",
       "       [4, 2, 4, 3, 2, 3, 2, 4, 4, 3],\n",
       "       [3, 4, 4, 3, 3, 3, 4, 2, 2, 4],\n",
       "       [2, 2, 1, 3, 4, 3, 1, 2, 4, 2],\n",
       "       [4, 4, 4, 3, 2, 3, 1, 2, 3, 2]])"
      ]
     },
     "execution_count": 14,
     "metadata": {},
     "output_type": "execute_result"
    }
   ],
   "source": [
    "cases[:,:,0]"
   ]
  },
  {
   "cell_type": "code",
   "execution_count": 15,
   "metadata": {},
   "outputs": [
    {
     "data": {
      "text/plain": [
       "array([[8, 9, 3, 8, 6, 1, 6, 1, 2, 3],\n",
       "       [7, 8, 8, 3, 1, 1, 2, 9, 8, 9],\n",
       "       [5, 5, 8, 6, 3, 6, 0, 6, 9, 5],\n",
       "       [2, 2, 2, 9, 9, 8, 1, 8, 8, 5],\n",
       "       [5, 6, 4, 8, 4, 1, 7, 9, 9, 9],\n",
       "       [2, 8, 1, 1, 3, 4, 1, 6, 6, 6],\n",
       "       [8, 6, 6, 5, 8, 7, 4, 3, 2, 5],\n",
       "       [4, 9, 4, 1, 1, 3, 5, 6, 6, 7],\n",
       "       [6, 4, 1, 7, 6, 4, 2, 1, 7, 8],\n",
       "       [2, 3, 5, 6, 1, 6, 5, 7, 5, 6]])"
      ]
     },
     "execution_count": 15,
     "metadata": {},
     "output_type": "execute_result"
    }
   ],
   "source": [
    "cases[:,:,1]"
   ]
  },
  {
   "cell_type": "code",
   "execution_count": 6,
   "metadata": {},
   "outputs": [],
   "source": [
    "nb,v,policy=value_iteration(env,0.99,max_iteration=2000)"
   ]
  },
  {
   "cell_type": "code",
   "execution_count": 7,
   "metadata": {},
   "outputs": [
    {
     "data": {
      "text/plain": [
       "array([[1., 1., 0., 1., 1., 3., 1., 1., 1., 2.],\n",
       "       [3., 3., 1., 1., 1., 3., 3., 1., 1., 1.],\n",
       "       [3., 3., 3., 1., 1., 1., 0., 1., 1., 2.],\n",
       "       [0., 0., 1., 1., 1., 1., 1., 1., 1., 0.],\n",
       "       [1., 3., 1., 1., 1., 3., 3., 1., 1., 1.],\n",
       "       [1., 0., 1., 1., 1., 0., 0., 1., 1., 1.],\n",
       "       [3., 3., 1., 1., 1., 1., 0., 3., 1., 1.],\n",
       "       [3., 1., 3., 3., 3., 1., 1., 3., 1., 1.],\n",
       "       [3., 3., 3., 3., 3., 3., 1., 1., 3., 1.],\n",
       "       [0., 0., 0., 0., 0., 0., 3., 3., 3., 0.]])"
      ]
     },
     "execution_count": 7,
     "metadata": {},
     "output_type": "execute_result"
    }
   ],
   "source": [
    "policy"
   ]
  },
  {
   "cell_type": "code",
   "execution_count": 8,
   "metadata": {},
   "outputs": [
    {
     "data": {
      "text/plain": [
       "(-43, array([ 3., 12., 12., 16.]))"
      ]
     },
     "execution_count": 8,
     "metadata": {},
     "output_type": "execute_result"
    }
   ],
   "source": [
    "simuler(env,policy,problem=\"risque\")"
   ]
  },
  {
   "cell_type": "code",
   "execution_count": 16,
   "metadata": {},
   "outputs": [
    {
     "name": "stdout",
     "output_type": "stream",
     "text": [
      "Gurobi Optimizer version 9.1.1 build v9.1.1rc0 (linux64)\n",
      "Thread count: 1 physical cores, 1 logical processors, using up to 1 threads\n",
      "Optimize a model with 1670 rows, 401 columns and 2702 nonzeros\n",
      "Model fingerprint: 0xbdb98ba5\n",
      "Coefficient statistics:\n",
      "  Matrix range     [1e-02, 9e+00]\n",
      "  Objective range  [1e+00, 1e+00]\n",
      "  Bounds range     [0e+00, 0e+00]\n",
      "  RHS range        [1e+00, 1e+00]\n",
      "Presolve removed 1568 rows and 15 columns\n",
      "Presolve time: 0.02s\n",
      "Presolved: 102 rows, 386 columns, 1122 nonzeros\n",
      "\n",
      "Iteration    Objective       Primal Inf.    Dual Inf.      Time\n",
      "       0    0.0000000e+00   1.668538e+03   0.000000e+00      0s\n",
      "     310    8.2340053e+02   0.000000e+00   0.000000e+00      0s\n",
      "\n",
      "Solved in 310 iterations and 0.04 seconds\n",
      "Optimal objective  8.234005332e+02\n"
     ]
    }
   ],
   "source": [
    "policy,val,pm=minmax_policy(env,0.99)"
   ]
  },
  {
   "cell_type": "code",
   "execution_count": 17,
   "metadata": {},
   "outputs": [],
   "source": [
    "pn=normalise(policy)"
   ]
  },
  {
   "cell_type": "code",
   "execution_count": 18,
   "metadata": {},
   "outputs": [
    {
     "name": "stdout",
     "output_type": "stream",
     "text": [
      "mixte\n"
     ]
    },
    {
     "data": {
      "text/plain": [
       "(54, array([ -4., -12., -23., -15.]))"
      ]
     },
     "execution_count": 18,
     "metadata": {},
     "output_type": "execute_result"
    }
   ],
   "source": [
    "simuler(env,pn,problem=\"equilibre\")"
   ]
  }
 ],
 "metadata": {
  "kernelspec": {
   "display_name": "Python 3",
   "language": "python",
   "name": "python3"
  },
  "language_info": {
   "codemirror_mode": {
    "name": "ipython",
    "version": 3
   },
   "file_extension": ".py",
   "mimetype": "text/x-python",
   "name": "python",
   "nbconvert_exporter": "python",
   "pygments_lexer": "ipython3",
   "version": "3.8.3"
  }
 },
 "nbformat": 4,
 "nbformat_minor": 4
}
