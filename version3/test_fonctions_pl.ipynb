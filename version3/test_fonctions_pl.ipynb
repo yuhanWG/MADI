{
 "cells": [
  {
   "cell_type": "code",
   "execution_count": 1,
   "metadata": {},
   "outputs": [],
   "source": [
    "from env import *\n",
    "from fonctions2 import *\n",
    "import numpy as np\n",
    "import gurobipy as gp\n",
    "from gurobipy import GRB"
   ]
  },
  {
   "cell_type": "code",
   "execution_count": 2,
   "metadata": {},
   "outputs": [],
   "source": [
    "env = Env(10,10,1,0.1,[0.1,0.2,0.3,0.4])\n",
    "cases=env.reset()"
   ]
  },
  {
   "cell_type": "code",
   "execution_count": 3,
   "metadata": {},
   "outputs": [
    {
     "data": {
      "text/plain": [
       "array([[4, 2, 4, 4, 2, 4, 4, 2, 2, 4],\n",
       "       [4, 4, 3, 4, 0, 3, 1, 4, 0, 4],\n",
       "       [2, 1, 4, 4, 2, 4, 2, 3, 3, 0],\n",
       "       [3, 3, 3, 2, 1, 3, 0, 3, 3, 2],\n",
       "       [3, 3, 4, 0, 4, 3, 4, 4, 1, 1],\n",
       "       [3, 3, 4, 3, 4, 4, 0, 3, 4, 1],\n",
       "       [4, 1, 3, 0, 3, 4, 3, 4, 2, 2],\n",
       "       [2, 1, 3, 3, 2, 3, 4, 1, 0, 4],\n",
       "       [4, 3, 0, 3, 4, 4, 4, 1, 0, 2],\n",
       "       [4, 0, 2, 0, 3, 3, 3, 4, 3, 2]])"
      ]
     },
     "execution_count": 3,
     "metadata": {},
     "output_type": "execute_result"
    }
   ],
   "source": [
    "env.cases[:,:,0]"
   ]
  },
  {
   "cell_type": "code",
   "execution_count": 4,
   "metadata": {},
   "outputs": [
    {
     "name": "stdout",
     "output_type": "stream",
     "text": [
      "Academic license - for non-commercial use only - expires 2021-01-25\n",
      "Using license file /home/yuhan/gurobi.lic\n"
     ]
    }
   ],
   "source": [
    "p,v=dual_pl_mono(env,0.9)"
   ]
  },
  {
   "cell_type": "code",
   "execution_count": 5,
   "metadata": {},
   "outputs": [],
   "source": [
    "nb,v,policy=value_iteration(env,0.9,max_iteration=2000)"
   ]
  },
  {
   "cell_type": "code",
   "execution_count": 6,
   "metadata": {},
   "outputs": [],
   "source": [
    "pd=get_a_policy(p)"
   ]
  },
  {
   "cell_type": "code",
   "execution_count": 7,
   "metadata": {},
   "outputs": [],
   "source": [
    "dict_action={0:\"U\",1:\"D\",2:\"L\",3:\"R\"}"
   ]
  },
  {
   "cell_type": "code",
   "execution_count": 8,
   "metadata": {},
   "outputs": [
    {
     "data": {
      "image/png": "[encoded data removed]",
      "text/plain": [
       "<Figure size 432x288 with 1 Axes>"
      ]
     },
     "metadata": {
      "needs_background": "light"
     },
     "output_type": "display_data"
    }
   ],
   "source": [
    "visu_policy(v,pd,dict_action,cases)"
   ]
  },
  {
   "cell_type": "code",
   "execution_count": 9,
   "metadata": {},
   "outputs": [],
   "source": [
    "p2,v2=dual_pl_mono(env,0.99,True)"
   ]
  },
  {
   "cell_type": "code",
   "execution_count": 10,
   "metadata": {},
   "outputs": [
    {
     "data": {
      "image/png": "[encoded data removed]",
      "text/plain": [
       "<Figure size 432x288 with 1 Axes>"
      ]
     },
     "metadata": {
      "needs_background": "light"
     },
     "output_type": "display_data"
    }
   ],
   "source": [
    "pd=get_a_policy(p2)\n",
    "visu_policy(v,pd,dict_action,cases)"
   ]
  },
  {
   "cell_type": "code",
   "execution_count": 13,
   "metadata": {},
   "outputs": [
    {
     "data": {
      "text/plain": [
       "array([[[ 0.        ,  0.        ,  0.        ,  1.        ],\n",
       "        [ 0.        ,  1.9       ,  0.        ,  0.        ],\n",
       "        [ 0.        ,  0.        ,  0.        ,  1.        ],\n",
       "        [ 0.        ,  0.        ,  0.        ,  1.9       ],\n",
       "        [ 0.        ,  0.        ,  0.        ,  2.71      ],\n",
       "        [ 0.        ,  3.439     ,  0.        ,  0.        ],\n",
       "        [ 0.        ,  1.        ,  0.        ,  0.        ],\n",
       "        [ 0.        ,  3.439     ,  0.        ,  0.        ],\n",
       "        [ 0.        ,  0.        ,  2.71      ,  0.        ],\n",
       "        [ 0.        ,  0.        ,  1.9       ,  0.        ]],\n",
       "\n",
       "       [[ 0.        ,  1.        ,  0.        ,  0.        ],\n",
       "        [ 0.        ,  2.71      ,  0.        ,  0.        ],\n",
       "        [ 0.        ,  1.        ,  0.        ,  0.        ],\n",
       "        [ 0.        ,  1.        ,  0.        ,  0.        ],\n",
       "        [ 0.        ,  0.        ,  0.        ,  0.        ],\n",
       "        [ 0.        ,  0.        ,  0.        ,  4.0951    ],\n",
       "        [ 0.        ,  5.58559   ,  0.        ,  0.        ],\n",
       "        [ 0.        ,  4.0951    ,  0.        ,  0.        ],\n",
       "        [ 0.        ,  0.        ,  0.        ,  0.        ],\n",
       "        [ 1.        ,  0.        ,  0.        ,  0.        ]],\n",
       "\n",
       "       [[ 0.        ,  0.        ,  0.        ,  1.9       ],\n",
       "        [ 0.        ,  5.149     ,  0.        ,  0.        ],\n",
       "        [ 0.        ,  1.9       ,  0.        ,  0.        ],\n",
       "        [ 0.        ,  1.9       ,  0.        ,  0.        ],\n",
       "        [ 0.        ,  1.        ,  0.        ,  0.        ],\n",
       "        [ 0.        ,  0.        ,  0.        ,  1.        ],\n",
       "        [ 0.        ,  0.        ,  0.        ,  6.927031  ],\n",
       "        [ 0.        ,  0.        ,  0.        , 10.9199179 ],\n",
       "        [ 0.        , 10.82792611,  0.        ,  0.        ],\n",
       "        [ 0.        ,  0.        ,  0.        ,  0.        ]],\n",
       "\n",
       "       [[ 0.        ,  0.        ,  0.        ,  1.        ],\n",
       "        [ 0.        ,  6.5341    ,  0.        ,  0.        ],\n",
       "        [ 0.        ,  0.        ,  0.        ,  2.71      ],\n",
       "        [ 0.        ,  0.        ,  0.        ,  5.149     ],\n",
       "        [ 0.        ,  0.        ,  0.        ,  6.5341    ],\n",
       "        [ 0.        ,  6.88069   ,  0.        ,  0.        ],\n",
       "        [ 0.        ,  0.        ,  0.        ,  0.        ],\n",
       "        [ 0.        ,  0.        ,  0.        ,  1.        ],\n",
       "        [ 0.        , 11.6451335 ,  0.        ,  0.        ],\n",
       "        [ 0.        ,  1.        ,  0.        ,  0.        ]],\n",
       "\n",
       "       [[ 0.        ,  0.        ,  0.        ,  1.        ],\n",
       "        [ 0.        ,  7.78069   ,  0.        ,  0.        ],\n",
       "        [ 0.        ,  1.        ,  0.        ,  0.        ],\n",
       "        [ 0.        ,  0.        ,  0.        ,  0.        ],\n",
       "        [ 0.        ,  0.        ,  0.        ,  1.        ],\n",
       "        [ 0.        ,  0.        ,  0.        ,  8.092621  ],\n",
       "        [ 0.        ,  0.        ,  0.        ,  8.2833589 ],\n",
       "        [ 0.        ,  0.        ,  0.        ,  8.45502301],\n",
       "        [ 0.        ,  0.        ,  0.        , 19.09014086],\n",
       "        [ 0.        , 19.08112677,  0.        ,  0.        ]],\n",
       "\n",
       "       [[ 0.        ,  0.        ,  0.        ,  1.        ],\n",
       "        [ 0.        ,  8.902621  ,  0.        ,  0.        ],\n",
       "        [ 0.        ,  1.9       ,  0.        ,  0.        ],\n",
       "        [ 0.        ,  0.        ,  0.        ,  1.        ],\n",
       "        [ 0.        ,  1.9       ,  0.        ,  0.        ],\n",
       "        [ 0.        ,  1.        ,  0.        ,  0.        ],\n",
       "        [ 0.        ,  0.        ,  0.        ,  0.        ],\n",
       "        [ 0.        ,  1.        ,  0.        ,  0.        ],\n",
       "        [ 0.        ,  0.        ,  0.        ,  1.        ],\n",
       "        [ 0.        , 19.0730141 ,  0.        ,  0.        ]],\n",
       "\n",
       "       [[ 0.        ,  0.        ,  0.        ,  1.        ],\n",
       "        [ 0.        ,  9.9123589 ,  0.        ,  0.        ],\n",
       "        [ 0.        ,  2.71      ,  0.        ,  0.        ],\n",
       "        [ 0.        ,  0.        ,  0.        ,  0.        ],\n",
       "        [ 0.        ,  2.71      ,  0.        ,  0.        ],\n",
       "        [ 0.        ,  1.9       ,  0.        ,  0.        ],\n",
       "        [ 0.        ,  1.        ,  0.        ,  0.        ],\n",
       "        [ 0.        ,  1.9       ,  0.        ,  0.        ],\n",
       "        [ 0.        ,  0.        ,  0.        ,  1.        ],\n",
       "        [ 0.        , 19.06571269,  0.        ,  0.        ]],\n",
       "\n",
       "       [[ 0.        ,  0.        ,  0.        ,  2.71      ],\n",
       "        [ 0.        ,  0.        ,  0.        , 13.26012301],\n",
       "        [ 0.        ,  0.        ,  0.        , 15.37311071],\n",
       "        [ 0.        ,  0.        ,  0.        , 14.83579964],\n",
       "        [ 0.        ,  0.        ,  0.        , 16.79121967],\n",
       "        [ 0.        ,  0.        ,  0.        , 17.82209771],\n",
       "        [ 0.        ,  0.        ,  0.        , 17.93988794],\n",
       "        [ 0.        , 18.85589914,  0.        ,  0.        ],\n",
       "        [ 0.        ,  0.        ,  0.        ,  0.        ],\n",
       "        [ 0.        , 18.15914142,  0.        ,  0.        ]],\n",
       "\n",
       "       [[ 1.9       ,  0.        ,  0.        ,  0.        ],\n",
       "        [ 1.        ,  0.        ,  0.        ,  0.        ],\n",
       "        [ 0.        ,  0.        ,  0.        ,  0.        ],\n",
       "        [ 0.        ,  0.        ,  0.        ,  1.        ],\n",
       "        [ 0.        ,  1.9       ,  0.        ,  0.        ],\n",
       "        [ 0.        ,  0.        ,  0.        ,  1.        ],\n",
       "        [ 0.        ,  0.        ,  0.        ,  1.9       ],\n",
       "        [ 0.        , 19.68030923,  0.        ,  0.        ],\n",
       "        [ 0.        ,  0.        ,  0.        ,  0.        ],\n",
       "        [ 0.        , 17.34322728,  0.        ,  0.        ]],\n",
       "\n",
       "       [[ 1.        ,  0.        ,  0.        ,  0.        ],\n",
       "        [ 0.        ,  0.        ,  0.        ,  0.        ],\n",
       "        [ 0.        , 10.        ,  0.        ,  0.        ],\n",
       "        [ 0.        ,  0.        ,  0.        ,  0.        ],\n",
       "        [ 0.        ,  0.        ,  0.        ,  2.71      ],\n",
       "        [ 0.        ,  0.        ,  0.        ,  3.439     ],\n",
       "        [ 0.        ,  0.        ,  0.        ,  4.0951    ],\n",
       "        [ 0.        ,  0.        ,  0.        , 22.39786831],\n",
       "        [ 0.        ,  0.        ,  0.        , 21.15808147],\n",
       "        [ 0.        ,  0.        ,  0.        ,  0.        ]]])"
      ]
     },
     "execution_count": 13,
     "metadata": {},
     "output_type": "execute_result"
    }
   ],
   "source": [
    "p"
   ]
  },
  {
   "cell_type": "code",
   "execution_count": 14,
   "metadata": {},
   "outputs": [
    {
     "data": {
      "text/plain": [
       "array([[[  0.        ,   0.        ,   0.        ,   1.        ],\n",
       "        [  0.        ,   1.99      ,   0.        ,   0.        ],\n",
       "        [  0.        ,   0.        ,   0.        ,   1.        ],\n",
       "        [  0.        ,   0.        ,   0.        ,   1.99      ],\n",
       "        [  0.        ,   0.        ,   0.        ,   2.9701    ],\n",
       "        [  0.        ,   3.940399  ,   0.        ,   0.        ],\n",
       "        [  0.        ,   1.        ,   0.        ,   0.        ],\n",
       "        [  0.        ,   3.940399  ,   0.        ,   0.        ],\n",
       "        [  0.        ,   0.        ,   2.9701    ,   0.        ],\n",
       "        [  0.        ,   0.        ,   1.99      ,   0.        ]],\n",
       "\n",
       "       [[  0.        ,   1.        ,   0.        ,   0.        ],\n",
       "        [  0.        ,   2.9701    ,   0.        ,   0.        ],\n",
       "        [  0.        ,   1.        ,   0.        ,   0.        ],\n",
       "        [  0.        ,   1.        ,   0.        ,   0.        ],\n",
       "        [  0.        ,   0.        ,   0.        ,   0.        ],\n",
       "        [  0.        ,   0.        ,   0.        ,   4.90099501],\n",
       "        [  0.        ,   6.84198506,   0.        ,   0.        ],\n",
       "        [  0.        ,   4.90099501,   0.        ,   0.        ],\n",
       "        [  0.        ,   0.        ,   0.        ,   0.        ],\n",
       "        [  1.        ,   0.        ,   0.        ,   0.        ]],\n",
       "\n",
       "       [[  0.        ,   0.        ,   0.        ,   1.99      ],\n",
       "        [  0.        ,   5.910499  ,   0.        ,   0.        ],\n",
       "        [  0.        ,   1.99      ,   0.        ,   0.        ],\n",
       "        [  0.        ,   1.99      ,   0.        ,   0.        ],\n",
       "        [  0.        ,   1.        ,   0.        ,   0.        ],\n",
       "        [  0.        ,   0.        ,   0.        ,   1.        ],\n",
       "        [  0.        ,   0.        ,   0.        ,   8.76356521],\n",
       "        [  0.        ,   0.        ,   0.        ,  14.52791462],\n",
       "        [  0.        ,  15.38263547,   0.        ,   0.        ],\n",
       "        [  0.        ,   0.        ,   0.        ,   0.        ]],\n",
       "\n",
       "       [[  0.        ,   0.        ,   0.        ,   1.        ],\n",
       "        [  0.        ,   0.        ,   0.        ,   7.84139401],\n",
       "        [  0.        ,   0.        ,   0.        ,  10.73308007],\n",
       "        [  0.        ,   0.        ,   0.        ,  13.59584927],\n",
       "        [  0.        ,   0.        ,   0.        ,  15.44989078],\n",
       "        [  0.        ,  16.29539187,   0.        ,   0.        ],\n",
       "        [  0.        ,   0.        ,   0.        ,   0.        ],\n",
       "        [  0.        ,   0.        ,   0.        ,   1.        ],\n",
       "        [  0.        ,  17.21880912,   0.        ,   0.        ],\n",
       "        [  0.        ,   1.        ,   0.        ,   0.        ]],\n",
       "\n",
       "       [[  0.        ,   0.        ,   0.        ,   1.        ],\n",
       "        [  0.        ,   1.99      ,   0.        ,   0.        ],\n",
       "        [  0.        ,   1.        ,   0.        ,   0.        ],\n",
       "        [  0.        ,   0.        ,   0.        ,   0.        ],\n",
       "        [  0.        ,   0.        ,   0.        ,   1.        ],\n",
       "        [  0.        ,   0.        ,   0.        ,  18.12243795],\n",
       "        [  0.        ,   0.        ,   0.        ,  18.94121357],\n",
       "        [  0.        ,   0.        ,   0.        ,  19.75180143],\n",
       "        [  0.        ,   0.        ,   0.        ,  37.60090445],\n",
       "        [  0.        ,  39.2148954 ,   0.        ,   0.        ]],\n",
       "\n",
       "       [[  0.        ,   0.        ,   0.        ,   1.        ],\n",
       "        [  0.        ,   3.9601    ,   0.        ,   0.        ],\n",
       "        [  0.        ,   1.99      ,   0.        ,   0.        ],\n",
       "        [  0.        ,   0.        ,   0.        ,   1.        ],\n",
       "        [  0.        ,   1.99      ,   0.        ,   0.        ],\n",
       "        [  0.        ,   1.        ,   0.        ,   0.        ],\n",
       "        [  0.        ,   0.        ,   0.        ,   0.        ],\n",
       "        [  0.        ,   1.        ,   0.        ,   0.        ],\n",
       "        [  0.        ,   0.        ,   0.        ,   1.        ],\n",
       "        [  0.        ,  40.81274645,   0.        ,   0.        ]],\n",
       "\n",
       "       [[  0.        ,   0.        ,   0.        ,   1.        ],\n",
       "        [  0.        ,   5.910499  ,   0.        ,   0.        ],\n",
       "        [  0.        ,   2.9701    ,   0.        ,   0.        ],\n",
       "        [  0.        ,   0.        ,   0.        ,   0.        ],\n",
       "        [  0.        ,   2.9701    ,   0.        ,   0.        ],\n",
       "        [  0.        ,   1.99      ,   0.        ,   0.        ],\n",
       "        [  0.        ,   1.        ,   0.        ,   0.        ],\n",
       "        [  0.        ,   1.99      ,   0.        ,   0.        ],\n",
       "        [  0.        ,   0.        ,   0.        ,   1.        ],\n",
       "        [  0.        ,  42.39461898,   0.        ,   0.        ]],\n",
       "\n",
       "       [[  0.        ,   0.        ,   0.        ,   2.9701    ],\n",
       "        [  0.        ,   0.        ,   0.        ,  10.78179301],\n",
       "        [  0.        ,   0.        ,   0.        ,  14.61437408],\n",
       "        [  0.        ,   0.        ,   0.        ,  15.46823034],\n",
       "        [  0.        ,   0.        ,   0.        ,  19.25394704],\n",
       "        [  0.        ,   0.        ,   0.        ,  22.03150757],\n",
       "        [  0.        ,   0.        ,   0.        ,  23.80119249],\n",
       "        [  0.        ,  26.53328056,   0.        ,   0.        ],\n",
       "        [  0.        ,   0.        ,   0.        ,   0.        ],\n",
       "        [  0.        ,  42.97067279,   0.        ,   0.        ]],\n",
       "\n",
       "       [[  1.99      ,   0.        ,   0.        ,   0.        ],\n",
       "        [  1.        ,   0.        ,   0.        ,   0.        ],\n",
       "        [  0.        ,   0.        ,   0.        ,   0.        ],\n",
       "        [  0.        ,   0.        ,   0.        ,   1.        ],\n",
       "        [  0.        ,   1.99      ,   0.        ,   0.        ],\n",
       "        [  0.        ,   0.        ,   0.        ,   1.        ],\n",
       "        [  0.        ,   0.        ,   0.        ,   1.99      ],\n",
       "        [  0.        ,  29.23804776,   0.        ,   0.        ],\n",
       "        [  0.        ,   0.        ,   0.        ,   0.        ],\n",
       "        [  0.        ,  43.54096606,   0.        ,   0.        ]],\n",
       "\n",
       "       [[  1.        ,   0.        ,   0.        ,   0.        ],\n",
       "        [  0.        ,   0.        ,   0.        ,   0.        ],\n",
       "        [  0.        , 100.        ,   0.        ,   0.        ],\n",
       "        [  0.        ,   0.        ,   0.        ,   0.        ],\n",
       "        [  0.        ,   0.        ,   0.        ,   2.9701    ],\n",
       "        [  0.        ,   0.        ,   0.        ,   3.940399  ],\n",
       "        [  0.        ,   0.        ,   0.        ,   4.90099501],\n",
       "        [  0.        ,   0.        ,   0.        ,  34.79765234],\n",
       "        [  0.        ,   0.        ,   0.        ,  35.44967582],\n",
       "        [  0.        ,   0.        ,   0.        ,   0.        ]]])"
      ]
     },
     "execution_count": 14,
     "metadata": {},
     "output_type": "execute_result"
    }
   ],
   "source": [
    "p2"
   ]
  },
  {
   "cell_type": "code",
   "execution_count": null,
   "metadata": {},
   "outputs": [],
   "source": []
  }
 ],
 "metadata": {
  "kernelspec": {
   "display_name": "Python 3",
   "language": "python",
   "name": "python3"
  },
  "language_info": {
   "codemirror_mode": {
    "name": "ipython",
    "version": 3
   },
   "file_extension": ".py",
   "mimetype": "text/x-python",
   "name": "python",
   "nbconvert_exporter": "python",
   "pygments_lexer": "ipython3",
   "version": "3.8.3"
  }
 },
 "nbformat": 4,
 "nbformat_minor": 4
}
