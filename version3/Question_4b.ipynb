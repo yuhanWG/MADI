{
 "cells": [
  {
   "cell_type": "code",
   "execution_count": 1,
   "metadata": {},
   "outputs": [],
   "source": [
    "from env import *\n",
    "from fonctions import *\n",
    "import numpy as np\n",
    "import gurobipy as gp\n",
    "from gurobipy import GRB"
   ]
  },
  {
   "cell_type": "code",
   "execution_count": 2,
   "metadata": {},
   "outputs": [],
   "source": [
    "env=Env(10,10,1,0.1,[0.1,0.2,0.3,0.4])"
   ]
  },
  {
   "cell_type": "code",
   "execution_count": 8,
   "metadata": {},
   "outputs": [],
   "source": [
    "cases=env.reset()"
   ]
  },
  {
   "cell_type": "code",
   "execution_count": 9,
   "metadata": {},
   "outputs": [
    {
     "data": {
      "text/plain": [
       "array([[1, 2, 3, 4, 3, 2, 2, 2, 3, 3],\n",
       "       [3, 4, 1, 4, 2, 3, 4, 3, 3, 3],\n",
       "       [3, 4, 3, 1, 2, 1, 1, 4, 4, 3],\n",
       "       [2, 2, 4, 1, 4, 2, 3, 3, 4, 4],\n",
       "       [3, 3, 1, 1, 3, 4, 2, 4, 1, 4],\n",
       "       [3, 4, 3, 0, 4, 3, 1, 0, 4, 4],\n",
       "       [4, 2, 2, 4, 3, 4, 4, 4, 4, 4],\n",
       "       [3, 4, 1, 4, 4, 4, 4, 4, 3, 4],\n",
       "       [3, 1, 1, 4, 4, 4, 3, 4, 1, 3],\n",
       "       [3, 1, 2, 3, 4, 3, 4, 4, 2, 2]])"
      ]
     },
     "execution_count": 9,
     "metadata": {},
     "output_type": "execute_result"
    }
   ],
   "source": [
    "cases[:,:,0]"
   ]
  },
  {
   "cell_type": "code",
   "execution_count": 11,
   "metadata": {},
   "outputs": [
    {
     "data": {
      "text/plain": [
       "array([[1, 6, 7, 3, 8, 9, 8, 9, 8, 1],\n",
       "       [1, 5, 1, 7, 4, 6, 5, 7, 8, 3],\n",
       "       [5, 8, 6, 1, 7, 4, 7, 3, 7, 3],\n",
       "       [4, 2, 7, 9, 8, 5, 8, 1, 9, 4],\n",
       "       [7, 4, 4, 1, 5, 3, 1, 1, 5, 7],\n",
       "       [2, 8, 8, 0, 3, 3, 4, 0, 7, 5],\n",
       "       [5, 1, 7, 4, 4, 1, 4, 3, 4, 2],\n",
       "       [6, 1, 1, 2, 3, 6, 3, 8, 4, 5],\n",
       "       [8, 2, 6, 2, 4, 5, 9, 2, 3, 8],\n",
       "       [9, 1, 7, 2, 2, 8, 6, 4, 7, 4]])"
      ]
     },
     "execution_count": 11,
     "metadata": {},
     "output_type": "execute_result"
    }
   ],
   "source": [
    "cases[:,:,1]"
   ]
  },
  {
   "cell_type": "code",
   "execution_count": 12,
   "metadata": {},
   "outputs": [
    {
     "name": "stdout",
     "output_type": "stream",
     "text": [
      "Gurobi Optimizer version 9.1.1 build v9.1.1rc0 (linux64)\n",
      "Thread count: 1 physical cores, 1 logical processors, using up to 1 threads\n",
      "Optimize a model with 1653 rows, 401 columns and 2624 nonzeros\n",
      "Model fingerprint: 0x3fe06ab8\n",
      "Coefficient statistics:\n",
      "  Matrix range     [1e+00, 9e+00]\n",
      "  Objective range  [1e+00, 1e+00]\n",
      "  Bounds range     [0e+00, 0e+00]\n",
      "  RHS range        [1e+00, 1e+00]\n",
      "Presolve removed 1552 rows and 60 columns\n",
      "Presolve time: 0.02s\n",
      "Presolved: 101 rows, 341 columns, 1024 nonzeros\n",
      "\n",
      "Iteration    Objective       Primal Inf.    Dual Inf.      Time\n",
      "       0    0.0000000e+00   2.120000e+02   0.000000e+00      0s\n",
      "     240    9.5329975e+02   0.000000e+00   0.000000e+00      0s\n",
      "\n",
      "Solved in 240 iterations and 0.04 seconds\n",
      "Optimal objective  9.532997497e+02\n"
     ]
    }
   ],
   "source": [
    "policy,val,pm=minmax_policy(env,1)"
   ]
  },
  {
   "cell_type": "code",
   "execution_count": 13,
   "metadata": {},
   "outputs": [
    {
     "data": {
      "text/plain": [
       "array([[[ 0.        ,  1.        ,  0.        ,  0.        ],\n",
       "        [ 0.        ,  0.        ,  0.        ,  1.        ],\n",
       "        [ 0.        ,  2.        ,  0.        ,  0.        ],\n",
       "        [ 0.        ,  0.        ,  0.        ,  1.        ],\n",
       "        [ 0.        ,  2.        ,  0.        ,  0.        ],\n",
       "        [ 0.        ,  2.        ,  0.        ,  0.        ],\n",
       "        [ 0.        ,  0.        ,  1.        ,  0.        ],\n",
       "        [ 0.        ,  3.        ,  0.        ,  0.        ],\n",
       "        [ 0.        ,  0.        ,  2.        ,  0.        ],\n",
       "        [ 0.        ,  0.        ,  1.        ,  0.        ]],\n",
       "\n",
       "       [[ 0.        ,  2.        ,  0.        ,  0.        ],\n",
       "        [ 0.        ,  0.        ,  0.        ,  1.        ],\n",
       "        [ 0.        ,  4.        ,  0.        ,  0.        ],\n",
       "        [ 0.        ,  1.        ,  0.        ,  0.        ],\n",
       "        [ 0.        ,  3.        ,  0.        ,  0.        ],\n",
       "        [ 0.        ,  3.        ,  0.        ,  0.        ],\n",
       "        [ 0.        ,  1.        ,  0.        ,  0.        ],\n",
       "        [ 0.        ,  6.        ,  0.        ,  0.        ],\n",
       "        [ 0.        ,  0.        ,  2.        ,  0.        ],\n",
       "        [ 0.        ,  0.        ,  1.        ,  0.        ]],\n",
       "\n",
       "       [[ 0.        ,  3.        ,  0.        ,  0.        ],\n",
       "        [ 0.        ,  0.        ,  0.        ,  1.        ],\n",
       "        [ 0.        ,  0.        ,  0.        ,  6.        ],\n",
       "        [ 0.        ,  0.        ,  0.        , 17.65269086],\n",
       "        [ 0.        ,  0.        ,  0.        , 21.65269086],\n",
       "        [ 0.        ,  0.        ,  0.        , 25.65269086],\n",
       "        [ 0.        , 27.65269086,  0.        ,  0.        ],\n",
       "        [ 0.        ,  8.        ,  0.        ,  0.        ],\n",
       "        [ 0.        ,  0.        ,  1.        ,  0.        ],\n",
       "        [ 0.        ,  1.        ,  0.        ,  0.        ]],\n",
       "\n",
       "       [[ 0.        ,  0.        ,  0.        ,  4.        ],\n",
       "        [ 0.        ,  5.        ,  0.        ,  0.        ],\n",
       "        [ 0.        ,  0.        ,  0.        ,  1.        ],\n",
       "        [ 9.65269086,  0.        ,  0.        ,  0.        ],\n",
       "        [ 0.        ,  0.        ,  0.        ,  1.        ],\n",
       "        [ 0.        ,  2.        ,  0.        ,  0.        ],\n",
       "        [ 0.        , 28.65269086,  0.        ,  0.        ],\n",
       "        [ 0.        ,  9.        ,  0.        ,  0.        ],\n",
       "        [ 0.        ,  1.        ,  0.        ,  0.        ],\n",
       "        [ 0.        ,  2.        ,  0.        ,  0.        ]],\n",
       "\n",
       "       [[ 0.        ,  0.        ,  0.        ,  2.        ],\n",
       "        [ 0.        ,  0.        ,  0.        ,  8.        ],\n",
       "        [ 0.        ,  0.        ,  0.        ,  9.        ],\n",
       "        [ 7.65269086,  0.        ,  0.        ,  2.34730914],\n",
       "        [ 0.        ,  0.        ,  0.        ,  3.34730914],\n",
       "        [ 0.        ,  0.        ,  0.        ,  6.34730914],\n",
       "        [ 0.        , 36.        ,  0.        ,  0.        ],\n",
       "        [ 0.        ,  0.        ,  0.        , 10.        ],\n",
       "        [ 0.        , 12.        ,  0.        ,  0.        ],\n",
       "        [ 0.        ,  3.        ,  0.        ,  0.        ]],\n",
       "\n",
       "       [[ 1.        ,  0.        ,  0.        ,  0.        ],\n",
       "        [ 0.        ,  1.        ,  0.        ,  0.        ],\n",
       "        [ 0.        ,  1.        ,  0.        ,  0.        ],\n",
       "        [ 0.        ,  0.        ,  0.        ,  0.        ],\n",
       "        [ 0.        ,  0.        ,  0.        ,  1.        ],\n",
       "        [ 0.        ,  0.        ,  0.        ,  2.        ],\n",
       "        [ 0.        , 39.        ,  0.        ,  0.        ],\n",
       "        [ 0.        ,  0.        ,  0.        ,  0.        ],\n",
       "        [ 0.        , 13.        ,  0.        ,  0.        ],\n",
       "        [ 0.        ,  4.        ,  0.        ,  0.        ]],\n",
       "\n",
       "       [[ 0.        ,  0.        ,  0.        ,  1.        ],\n",
       "        [ 0.        ,  0.        ,  0.        ,  3.        ],\n",
       "        [ 0.        ,  5.        ,  0.        ,  0.        ],\n",
       "        [ 0.        ,  0.        ,  0.        ,  1.        ],\n",
       "        [ 0.        ,  0.        ,  0.        ,  2.        ],\n",
       "        [ 0.        ,  0.        ,  0.        ,  3.        ],\n",
       "        [ 0.        , 16.53316646,  0.        , 26.46683354],\n",
       "        [ 0.        ,  0.        ,  0.        , 27.46683354],\n",
       "        [ 0.        , 46.46683354,  0.        ,  0.        ],\n",
       "        [ 0.        ,  0.        ,  5.        ,  0.        ]],\n",
       "\n",
       "       [[ 0.        ,  0.        ,  0.        ,  1.        ],\n",
       "        [ 0.        ,  0.        ,  0.        ,  2.        ],\n",
       "        [ 0.        ,  8.        ,  0.        ,  0.        ],\n",
       "        [ 0.        ,  1.        ,  0.        ,  0.        ],\n",
       "        [ 0.        ,  0.        ,  0.        ,  1.        ],\n",
       "        [ 0.        ,  0.        ,  0.        ,  2.        ],\n",
       "        [ 0.        , 19.53316646,  0.        ,  0.        ],\n",
       "        [ 0.        ,  0.        ,  0.        ,  1.        ],\n",
       "        [ 0.        , 49.46683354,  0.        ,  0.        ],\n",
       "        [ 0.        ,  0.        ,  1.        ,  0.        ]],\n",
       "\n",
       "       [[ 0.        ,  0.        ,  0.        ,  1.        ],\n",
       "        [ 0.        ,  0.67584481,  0.        ,  1.32415519],\n",
       "        [ 0.        ,  0.        ,  0.        , 10.32415519],\n",
       "        [ 0.        ,  0.        ,  0.        , 12.32415519],\n",
       "        [ 0.        ,  0.        ,  0.        , 13.32415519],\n",
       "        [ 0.        ,  0.        ,  0.        , 14.32415519],\n",
       "        [ 0.        ,  0.        ,  0.        , 34.85732165],\n",
       "        [ 0.        ,  0.        ,  0.        , 35.85732165],\n",
       "        [ 0.        , 86.32415519,  0.        ,  0.        ],\n",
       "        [ 0.        ,  1.        ,  0.        ,  0.        ]],\n",
       "\n",
       "       [[ 0.        ,  0.        ,  0.        ,  1.        ],\n",
       "        [ 0.        ,  0.        ,  0.        ,  2.67584481],\n",
       "        [ 0.        ,  0.        ,  0.        ,  3.67584481],\n",
       "        [ 0.        ,  0.        ,  0.        ,  4.67584481],\n",
       "        [ 0.        ,  0.        ,  0.        ,  5.67584481],\n",
       "        [ 0.        ,  0.        ,  0.        ,  6.67584481],\n",
       "        [ 0.        ,  0.        ,  0.        ,  7.67584481],\n",
       "        [ 0.        ,  0.        ,  0.        ,  8.67584481],\n",
       "        [ 0.        ,  0.        ,  0.        , 96.        ],\n",
       "        [ 0.        ,  0.        ,  0.        ,  0.        ]]])"
      ]
     },
     "execution_count": 13,
     "metadata": {},
     "output_type": "execute_result"
    }
   ],
   "source": [
    "policy"
   ]
  },
  {
   "cell_type": "code",
   "execution_count": 14,
   "metadata": {},
   "outputs": [],
   "source": [
    "pn=normalise(policy)"
   ]
  },
  {
   "cell_type": "code",
   "execution_count": 15,
   "metadata": {},
   "outputs": [
    {
     "data": {
      "text/plain": [
       "array([[[0.        , 1.        , 0.        , 0.        ],\n",
       "        [0.        , 0.        , 0.        , 1.        ],\n",
       "        [0.        , 1.        , 0.        , 0.        ],\n",
       "        [0.        , 0.        , 0.        , 1.        ],\n",
       "        [0.        , 1.        , 0.        , 0.        ],\n",
       "        [0.        , 1.        , 0.        , 0.        ],\n",
       "        [0.        , 0.        , 1.        , 0.        ],\n",
       "        [0.        , 1.        , 0.        , 0.        ],\n",
       "        [0.        , 0.        , 1.        , 0.        ],\n",
       "        [0.        , 0.        , 1.        , 0.        ]],\n",
       "\n",
       "       [[0.        , 1.        , 0.        , 0.        ],\n",
       "        [0.        , 0.        , 0.        , 1.        ],\n",
       "        [0.        , 1.        , 0.        , 0.        ],\n",
       "        [0.        , 1.        , 0.        , 0.        ],\n",
       "        [0.        , 1.        , 0.        , 0.        ],\n",
       "        [0.        , 1.        , 0.        , 0.        ],\n",
       "        [0.        , 1.        , 0.        , 0.        ],\n",
       "        [0.        , 1.        , 0.        , 0.        ],\n",
       "        [0.        , 0.        , 1.        , 0.        ],\n",
       "        [0.        , 0.        , 1.        , 0.        ]],\n",
       "\n",
       "       [[0.        , 1.        , 0.        , 0.        ],\n",
       "        [0.        , 0.        , 0.        , 1.        ],\n",
       "        [0.        , 0.        , 0.        , 1.        ],\n",
       "        [0.        , 0.        , 0.        , 1.        ],\n",
       "        [0.        , 0.        , 0.        , 1.        ],\n",
       "        [0.        , 0.        , 0.        , 1.        ],\n",
       "        [0.        , 1.        , 0.        , 0.        ],\n",
       "        [0.        , 1.        , 0.        , 0.        ],\n",
       "        [0.        , 0.        , 1.        , 0.        ],\n",
       "        [0.        , 1.        , 0.        , 0.        ]],\n",
       "\n",
       "       [[0.        , 0.        , 0.        , 1.        ],\n",
       "        [0.        , 1.        , 0.        , 0.        ],\n",
       "        [0.        , 0.        , 0.        , 1.        ],\n",
       "        [1.        , 0.        , 0.        , 0.        ],\n",
       "        [0.        , 0.        , 0.        , 1.        ],\n",
       "        [0.        , 1.        , 0.        , 0.        ],\n",
       "        [0.        , 1.        , 0.        , 0.        ],\n",
       "        [0.        , 1.        , 0.        , 0.        ],\n",
       "        [0.        , 1.        , 0.        , 0.        ],\n",
       "        [0.        , 1.        , 0.        , 0.        ]],\n",
       "\n",
       "       [[0.        , 0.        , 0.        , 1.        ],\n",
       "        [0.        , 0.        , 0.        , 1.        ],\n",
       "        [0.        , 0.        , 0.        , 1.        ],\n",
       "        [0.76526909, 0.        , 0.        , 0.23473091],\n",
       "        [0.        , 0.        , 0.        , 1.        ],\n",
       "        [0.        , 0.        , 0.        , 1.        ],\n",
       "        [0.        , 1.        , 0.        , 0.        ],\n",
       "        [0.        , 0.        , 0.        , 1.        ],\n",
       "        [0.        , 1.        , 0.        , 0.        ],\n",
       "        [0.        , 1.        , 0.        , 0.        ]],\n",
       "\n",
       "       [[1.        , 0.        , 0.        , 0.        ],\n",
       "        [0.        , 1.        , 0.        , 0.        ],\n",
       "        [0.        , 1.        , 0.        , 0.        ],\n",
       "        [0.        , 0.        , 0.        , 0.        ],\n",
       "        [0.        , 0.        , 0.        , 1.        ],\n",
       "        [0.        , 0.        , 0.        , 1.        ],\n",
       "        [0.        , 1.        , 0.        , 0.        ],\n",
       "        [0.        , 0.        , 0.        , 0.        ],\n",
       "        [0.        , 1.        , 0.        , 0.        ],\n",
       "        [0.        , 1.        , 0.        , 0.        ]],\n",
       "\n",
       "       [[0.        , 0.        , 0.        , 1.        ],\n",
       "        [0.        , 0.        , 0.        , 1.        ],\n",
       "        [0.        , 1.        , 0.        , 0.        ],\n",
       "        [0.        , 0.        , 0.        , 1.        ],\n",
       "        [0.        , 0.        , 0.        , 1.        ],\n",
       "        [0.        , 0.        , 0.        , 1.        ],\n",
       "        [0.        , 0.38449224, 0.        , 0.61550776],\n",
       "        [0.        , 0.        , 0.        , 1.        ],\n",
       "        [0.        , 1.        , 0.        , 0.        ],\n",
       "        [0.        , 0.        , 1.        , 0.        ]],\n",
       "\n",
       "       [[0.        , 0.        , 0.        , 1.        ],\n",
       "        [0.        , 0.        , 0.        , 1.        ],\n",
       "        [0.        , 1.        , 0.        , 0.        ],\n",
       "        [0.        , 1.        , 0.        , 0.        ],\n",
       "        [0.        , 0.        , 0.        , 1.        ],\n",
       "        [0.        , 0.        , 0.        , 1.        ],\n",
       "        [0.        , 1.        , 0.        , 0.        ],\n",
       "        [0.        , 0.        , 0.        , 1.        ],\n",
       "        [0.        , 1.        , 0.        , 0.        ],\n",
       "        [0.        , 0.        , 1.        , 0.        ]],\n",
       "\n",
       "       [[0.        , 0.        , 0.        , 1.        ],\n",
       "        [0.        , 0.3379224 , 0.        , 0.6620776 ],\n",
       "        [0.        , 0.        , 0.        , 1.        ],\n",
       "        [0.        , 0.        , 0.        , 1.        ],\n",
       "        [0.        , 0.        , 0.        , 1.        ],\n",
       "        [0.        , 0.        , 0.        , 1.        ],\n",
       "        [0.        , 0.        , 0.        , 1.        ],\n",
       "        [0.        , 0.        , 0.        , 1.        ],\n",
       "        [0.        , 1.        , 0.        , 0.        ],\n",
       "        [0.        , 1.        , 0.        , 0.        ]],\n",
       "\n",
       "       [[0.        , 0.        , 0.        , 1.        ],\n",
       "        [0.        , 0.        , 0.        , 1.        ],\n",
       "        [0.        , 0.        , 0.        , 1.        ],\n",
       "        [0.        , 0.        , 0.        , 1.        ],\n",
       "        [0.        , 0.        , 0.        , 1.        ],\n",
       "        [0.        , 0.        , 0.        , 1.        ],\n",
       "        [0.        , 0.        , 0.        , 1.        ],\n",
       "        [0.        , 0.        , 0.        , 1.        ],\n",
       "        [0.        , 0.        , 0.        , 1.        ],\n",
       "        [0.        , 0.        , 0.        , 0.        ]]])"
      ]
     },
     "execution_count": 15,
     "metadata": {},
     "output_type": "execute_result"
    }
   ],
   "source": [
    "pn"
   ]
  },
  {
   "cell_type": "code",
   "execution_count": 16,
   "metadata": {},
   "outputs": [],
   "source": [
    "pd=get_a_policy(pn)"
   ]
  },
  {
   "cell_type": "code",
   "execution_count": 17,
   "metadata": {},
   "outputs": [],
   "source": [
    "nb,v,policy=value_iteration(env,0.9,max_iteration=2000)\n",
    "dict_action={0:\"O\",1:\"S\",2:\"W\",3:\"E\"}"
   ]
  },
  {
   "cell_type": "code",
   "execution_count": 18,
   "metadata": {},
   "outputs": [
    {
     "data": {
      "image/png": "[encoded data removed]",
      "text/plain": [
       "<Figure size 432x288 with 1 Axes>"
      ]
     },
     "metadata": {
      "needs_background": "light"
     },
     "output_type": "display_data"
    }
   ],
   "source": [
    "visu_policy(v,pd,dict_action,cases)"
   ]
  },
  {
   "cell_type": "code",
   "execution_count": null,
   "metadata": {},
   "outputs": [],
   "source": [
    "val"
   ]
  },
  {
   "cell_type": "code",
   "execution_count": null,
   "metadata": {},
   "outputs": [],
   "source": [
    "pm"
   ]
  }
 ],
 "metadata": {
  "kernelspec": {
   "display_name": "Python 3",
   "language": "python",
   "name": "python3"
  },
  "language_info": {
   "codemirror_mode": {
    "name": "ipython",
    "version": 3
   },
   "file_extension": ".py",
   "mimetype": "text/x-python",
   "name": "python",
   "nbconvert_exporter": "python",
   "pygments_lexer": "ipython3",
   "version": "3.8.3"
  }
 },
 "nbformat": 4,
 "nbformat_minor": 4
}
