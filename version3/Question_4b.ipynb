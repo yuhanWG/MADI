{
 "cells": [
  {
   "cell_type": "code",
   "execution_count": 1,
   "metadata": {},
   "outputs": [],
   "source": [
    "from env import *\n",
    "from fonctions import *\n",
    "import numpy as np\n",
    "import gurobipy as gp\n",
    "from gurobipy import GRB"
   ]
  },
  {
   "cell_type": "code",
   "execution_count": 36,
   "metadata": {},
   "outputs": [],
   "source": [
    "env=Env(10,10,1,0.1,[0.1,0.2,0.3,0.4])"
   ]
  },
  {
   "cell_type": "code",
   "execution_count": 37,
   "metadata": {},
   "outputs": [],
   "source": [
    "cases=env.reset()"
   ]
  },
  {
   "cell_type": "code",
   "execution_count": 38,
   "metadata": {},
   "outputs": [
    {
     "data": {
      "text/plain": [
       "array([[2, 2, 1, 3, 2, 3, 4, 2, 2, 1],\n",
       "       [1, 1, 2, 3, 4, 4, 3, 3, 1, 4],\n",
       "       [4, 1, 4, 4, 4, 3, 2, 4, 3, 0],\n",
       "       [3, 2, 3, 2, 2, 2, 4, 4, 4, 4],\n",
       "       [4, 4, 4, 4, 1, 4, 4, 2, 1, 4],\n",
       "       [3, 3, 0, 3, 0, 4, 3, 4, 4, 4],\n",
       "       [3, 4, 0, 2, 4, 3, 4, 3, 3, 3],\n",
       "       [1, 1, 3, 1, 4, 3, 3, 3, 4, 4],\n",
       "       [0, 4, 3, 3, 3, 0, 4, 3, 1, 4],\n",
       "       [3, 2, 3, 0, 0, 4, 3, 4, 3, 4]])"
      ]
     },
     "execution_count": 38,
     "metadata": {},
     "output_type": "execute_result"
    }
   ],
   "source": [
    "cases[:,:,0]"
   ]
  },
  {
   "cell_type": "code",
   "execution_count": 39,
   "metadata": {},
   "outputs": [
    {
     "data": {
      "text/plain": [
       "array([[5, 2, 7, 2, 1, 5, 3, 9, 2, 1],\n",
       "       [3, 4, 3, 7, 5, 2, 8, 6, 6, 8],\n",
       "       [3, 2, 4, 5, 9, 5, 6, 2, 9, 0],\n",
       "       [5, 4, 6, 7, 3, 1, 5, 3, 7, 3],\n",
       "       [2, 2, 5, 2, 8, 6, 1, 3, 9, 6],\n",
       "       [8, 8, 0, 1, 0, 4, 3, 5, 2, 3],\n",
       "       [1, 5, 0, 1, 6, 6, 3, 8, 8, 2],\n",
       "       [6, 2, 5, 2, 4, 7, 6, 3, 6, 1],\n",
       "       [0, 7, 9, 2, 8, 0, 2, 8, 7, 0],\n",
       "       [6, 4, 4, 0, 0, 1, 4, 2, 9, 0]])"
      ]
     },
     "execution_count": 39,
     "metadata": {},
     "output_type": "execute_result"
    }
   ],
   "source": [
    "cases[:,:,1]"
   ]
  },
  {
   "cell_type": "code",
   "execution_count": 46,
   "metadata": {},
   "outputs": [
    {
     "name": "stdout",
     "output_type": "stream",
     "text": [
      "Gurobi Optimizer version 9.1.1 build v9.1.1rc0 (linux64)\n",
      "Thread count: 1 physical cores, 1 logical processors, using up to 1 threads\n",
      "Optimize a model with 1551 rows, 401 columns and 2429 nonzeros\n",
      "Model fingerprint: 0xd571f95b\n",
      "Coefficient statistics:\n",
      "  Matrix range     [1e+00, 9e+00]\n",
      "  Objective range  [1e+00, 1e+00]\n",
      "  Bounds range     [0e+00, 0e+00]\n",
      "  RHS range        [1e+00, 1e+00]\n",
      "Presolve removed 1458 rows and 100 columns\n",
      "Presolve time: 0.02s\n",
      "Presolved: 93 rows, 301 columns, 902 nonzeros\n",
      "\n",
      "Iteration    Objective       Primal Inf.    Dual Inf.      Time\n",
      "       0    3.9950000e+00   1.950000e+02   0.000000e+00      0s\n",
      "     188    7.2745475e+02   0.000000e+00   0.000000e+00      0s\n",
      "\n",
      "Solved in 188 iterations and 0.03 seconds\n",
      "Optimal objective  7.274547511e+02\n",
      "<gurobi.LinExpr: 3.0 x_s_a[0,0,down] + 0.0 x_s_a[0,0,down] + 0.0 x_s_a[0,0,right] + 4.0 x_s_a[0,1,down] + 0.0 x_s_a[0,1,down] + 0.0 x_s_a[0,1,left] + 7.0 x_s_a[0,1,right] + 7.0 x_s_a[0,2,up] + 0.0 x_s_a[0,2,down] + 0.0 x_s_a[0,2,left] + 7.0 x_s_a[0,3,left] + 0.0 x_s_a[0,7,down] + 0.0 x_s_a[0,7,right] + 6.0 x_s_a[0,8,down] + x_s_a[0,8,right] + x_s_a[0,9,up] + 0.0 x_s_a[0,9,down] + 0.0 x_s_a[0,9,left] + x_s_a[0,9,right] + 0.0 x_s_a[1,0,down] + 3.0 x_s_a[1,0,left] + 4.0 x_s_a[1,0,right] + 0.0 x_s_a[1,0,right] + 2.0 x_s_a[1,1,down] + 3.0 x_s_a[1,1,left] + 0.0 x_s_a[1,1,right] + 7.0 x_s_a[1,2,up] + 0.0 x_s_a[1,2,down] + 4.0 x_s_a[1,2,left] + 0.0 x_s_a[1,2,left] + 0.0 x_s_a[1,3,up] + 0.0 x_s_a[1,3,up] + 0.0 x_s_a[1,3,left] + 6.0 x_s_a[1,7,right] + 0.0 x_s_a[1,8,right] + x_s_a[1,9,up] + 6.0 x_s_a[1,9,left] + 3.0 x_s_a[2,0,up] + 0.0 x_s_a[2,0,up] + 2.0 x_s_a[2,0,right] + 0.0 x_s_a[2,0,right] + 4.0 x_s_a[2,1,up] + 0.0 x_s_a[2,1,up] + 0.0 x_s_a[2,1,up] + 0.0 x_s_a[2,1,left] + 0.0 x_s_a[2,2,up] + 0.0 x_s_a[2,2,up] + 2.0 x_s_a[2,2,left] + 0.0 x_s_a[2,2,left] + 0.0 x_s_a[2,7,right] + 6.0 x_s_a[2,8,up] + 0.0 x_s_a[3,0,up] + 0.0 x_s_a[3,0,right] + 2.0 x_s_a[3,1,up] + 0.0 x_s_a[3,2,up] + 0.0 x_s_a[3,2,up] + 0.0 x_s_a[3,2,left] + 0.0 x_s_a[3,3,down] + 0.0 x_s_a[3,3,right] + 8.0 x_s_a[3,4,down] + 0.0 x_s_a[3,5,down] + 0.0 x_s_a[3,5,left] + 0.0 x_s_a[3,7,down] + 0.0 x_s_a[3,7,right] + 9.0 x_s_a[3,8,down] + 0.0 x_s_a[3,9,down] + 0.0 x_s_a[3,9,left] + 8.0 x_s_a[4,3,right] + 8.0 x_s_a[4,4,down] + 8.0 x_s_a[4,5,left] + 9.0 x_s_a[4,7,right] + 9.0 x_s_a[4,9,left] + 0.0 x_s_a[5,5,up] + 0.0 x_s_a[5,5,up] + 0.0 x_s_a[5,7,right] + 9.0 x_s_a[5,8,up] + 0.0 x_s_a[5,9,up] + 0.0 x_s_a[5,9,left] + 6.0 x_s_a[6,0,down] + 0.0 x_s_a[6,0,down] + 0.0 x_s_a[6,0,right] + 2.0 x_s_a[6,1,down] + 0.0 x_s_a[6,1,down] + 0.0 x_s_a[6,1,left] + 2.0 x_s_a[6,3,down] + 0.0 x_s_a[6,4,down] + 0.0 x_s_a[6,4,left] + 6.0 x_s_a[7,0,down] + 6.0 x_s_a[7,0,left] + 2.0 x_s_a[7,0,right] + 6.0 x_s_a[7,1,left] + 2.0 x_s_a[7,2,left] + 2.0 x_s_a[7,2,right] + 2.0 x_s_a[7,4,left] + 0.0 x_s_a[7,7,down] + 0.0 x_s_a[7,7,right] + 7.0 x_s_a[7,8,down] + 0.0 x_s_a[7,9,down] + 0.0 x_s_a[7,9,left] + 2.0 x_s_a[8,1,up] + 0.0 x_s_a[8,1,up] + 0.0 x_s_a[8,1,up] + 0.0 x_s_a[8,2,up] + 0.0 x_s_a[8,2,up] + 0.0 x_s_a[8,2,left] + 0.0 x_s_a[8,2,right] + 2.0 x_s_a[8,3,up] + 0.0 x_s_a[8,4,up] + 0.0 x_s_a[8,4,up] + 0.0 x_s_a[8,4,left] + 7.0 x_s_a[8,7,right] + 7.0 x_s_a[8,9,left] + 0.0 x_s_a[9,7,right] + 7.0 x_s_a[9,8,up]>\n",
      "<gurobi.LinExpr: 5.0 x_s_a[0,0,up] + 5.0 x_s_a[0,0,left] + 2.0 x_s_a[0,0,right] + 2.0 x_s_a[0,1,up] + 0.0 x_s_a[0,1,down] + 5.0 x_s_a[0,1,left] + 0.0 x_s_a[0,1,right] + 3.0 x_s_a[0,2,down] + 2.0 x_s_a[0,2,left] + 0.0 x_s_a[0,3,down] + 0.0 x_s_a[0,3,left] + x_s_a[0,3,right] + x_s_a[0,4,up] + x_s_a[0,5,left] + 9.0 x_s_a[0,6,right] + 9.0 x_s_a[0,7,up] + 2.0 x_s_a[0,7,right] + 2.0 x_s_a[0,8,up] + 9.0 x_s_a[0,8,left] + 2.0 x_s_a[0,9,left] + 5.0 x_s_a[1,0,up] + 0.0 x_s_a[1,0,up] + 0.0 x_s_a[1,0,right] + 2.0 x_s_a[1,1,up] + 0.0 x_s_a[1,1,up] + 0.0 x_s_a[1,1,up] + 0.0 x_s_a[1,1,left] + 3.0 x_s_a[1,1,right] + 0.0 x_s_a[1,2,up] + 0.0 x_s_a[1,2,up] + 0.0 x_s_a[1,2,left] + 3.0 x_s_a[1,3,left] + 0.0 x_s_a[1,3,right] + x_s_a[1,4,up] + 0.0 x_s_a[1,5,up] + 0.0 x_s_a[1,5,up] + 0.0 x_s_a[1,5,down] + 0.0 x_s_a[1,5,left] + 0.0 x_s_a[1,5,right] + 6.0 x_s_a[1,6,down] + 0.0 x_s_a[1,6,right] + 9.0 x_s_a[1,7,up] + 0.0 x_s_a[1,7,down] + 0.0 x_s_a[1,7,left] + 0.0 x_s_a[1,7,right] + 2.0 x_s_a[1,8,up] + 0.0 x_s_a[1,8,up] + 0.0 x_s_a[1,8,up] + 0.0 x_s_a[1,8,left] + 0.0 x_s_a[1,9,up] + 0.0 x_s_a[1,9,left] + 0.0 x_s_a[2,0,down] + 0.0 x_s_a[2,0,right] + 4.0 x_s_a[2,1,down] + 0.0 x_s_a[2,1,right] + 3.0 x_s_a[2,2,up] + 0.0 x_s_a[2,2,down] + 0.0 x_s_a[2,2,down] + 0.0 x_s_a[2,2,left] + 0.0 x_s_a[2,2,right] + 0.0 x_s_a[2,3,up] + 0.0 x_s_a[2,3,up] + 7.0 x_s_a[2,3,down] + 0.0 x_s_a[2,3,down] + 0.0 x_s_a[2,3,left] + 0.0 x_s_a[2,3,right] + 3.0 x_s_a[2,4,down] + 0.0 x_s_a[2,4,down] + 0.0 x_s_a[2,4,down] + 0.0 x_s_a[2,4,left] + 0.0 x_s_a[2,4,right] + x_s_a[2,5,down] + 0.0 x_s_a[2,5,down] + 0.0 x_s_a[2,5,left] + 6.0 x_s_a[2,5,right] + 0.0 x_s_a[2,6,down] + 0.0 x_s_a[2,6,left] + 6.0 x_s_a[2,7,left] + 4.0 x_s_a[3,0,right] + 4.0 x_s_a[3,2,left] + 7.0 x_s_a[3,2,right] + 3.0 x_s_a[3,3,right] + 7.0 x_s_a[3,4,left] + x_s_a[3,4,right] + 3.0 x_s_a[3,5,left] + 0.0 x_s_a[3,5,right] + 6.0 x_s_a[3,6,up] + 0.0 x_s_a[3,6,down] + x_s_a[3,6,left] + 0.0 x_s_a[3,6,right] + 0.0 x_s_a[3,7,up] + 0.0 x_s_a[3,7,up] + 3.0 x_s_a[3,7,down] + 0.0 x_s_a[3,7,left] + 0.0 x_s_a[3,8,down] + 0.0 x_s_a[3,8,left] + 0.0 x_s_a[4,0,up] + 0.0 x_s_a[4,0,right] + 4.0 x_s_a[4,1,up] + 0.0 x_s_a[4,2,up] + 0.0 x_s_a[4,2,up] + 0.0 x_s_a[4,2,left] + 0.0 x_s_a[4,2,right] + 7.0 x_s_a[4,3,up] + 0.0 x_s_a[4,3,right] + 3.0 x_s_a[4,4,up] + 0.0 x_s_a[4,4,up] + 0.0 x_s_a[4,4,up] + 0.0 x_s_a[4,4,left] + 0.0 x_s_a[4,4,right] + x_s_a[4,5,up] + 0.0 x_s_a[4,5,up] + 0.0 x_s_a[4,5,up] + 0.0 x_s_a[4,5,left] + 0.0 x_s_a[4,6,up] + 0.0 x_s_a[4,6,up] + 0.0 x_s_a[4,6,left] + 3.0 x_s_a[4,6,right] + 3.0 x_s_a[4,8,left] + x_s_a[5,3,down] + 0.0 x_s_a[5,6,right] + 3.0 x_s_a[5,7,up] + 0.0 x_s_a[5,8,up] + 0.0 x_s_a[5,8,up] + 0.0 x_s_a[5,8,left] + x_s_a[6,3,left] + x_s_a[6,4,left] + 0.0 x_s_a[7,2,right] + x_s_a[7,3,up] + 0.0 x_s_a[7,4,up] + 0.0 x_s_a[7,4,up] + 0.0 x_s_a[7,4,left] + 4.0 x_s_a[8,1,down] + 0.0 x_s_a[8,2,down] + 0.0 x_s_a[8,2,left] + 4.0 x_s_a[9,0,right] + 4.0 x_s_a[9,1,down] + 4.0 x_s_a[9,2,left]>\n",
      "<gurobi.LinExpr: 0.0 x_s_a[0,2,down] + 2.0 x_s_a[0,2,right] + 0.0 x_s_a[0,2,right] + 2.0 x_s_a[0,3,up] + 7.0 x_s_a[0,3,down] + 0.0 x_s_a[0,4,down] + 2.0 x_s_a[0,4,left] + 0.0 x_s_a[0,4,left] + 5.0 x_s_a[0,4,right] + 5.0 x_s_a[0,5,up] + 0.0 x_s_a[0,5,down] + 0.0 x_s_a[0,5,right] + 8.0 x_s_a[0,6,down] + 0.0 x_s_a[0,6,down] + 5.0 x_s_a[0,6,left] + 0.0 x_s_a[0,6,right] + 6.0 x_s_a[0,7,down] + 0.0 x_s_a[0,7,down] + 0.0 x_s_a[0,7,left] + 0.0 x_s_a[0,8,down] + 0.0 x_s_a[0,8,left] + 7.0 x_s_a[1,2,right] + 0.0 x_s_a[1,2,right] + 2.0 x_s_a[1,3,up] + 0.0 x_s_a[1,4,up] + 0.0 x_s_a[1,4,up] + 0.0 x_s_a[1,4,down] + 7.0 x_s_a[1,4,left] + 0.0 x_s_a[1,4,left] + 0.0 x_s_a[1,4,right] + 0.0 x_s_a[1,4,right] + 5.0 x_s_a[1,5,up] + 5.0 x_s_a[1,5,down] + 8.0 x_s_a[1,5,right] + 0.0 x_s_a[1,6,up] + 0.0 x_s_a[1,6,up] + 0.0 x_s_a[1,6,down] + 0.0 x_s_a[1,6,left] + 0.0 x_s_a[1,6,left] + 6.0 x_s_a[1,6,right] + 0.0 x_s_a[1,7,down] + 8.0 x_s_a[1,7,left] + 0.0 x_s_a[1,7,right] + 9.0 x_s_a[1,8,down] + 6.0 x_s_a[1,8,left] + 0.0 x_s_a[1,9,left] + 5.0 x_s_a[2,0,down] + 0.0 x_s_a[2,1,down] + 0.0 x_s_a[2,1,down] + 0.0 x_s_a[2,1,left] + 0.0 x_s_a[2,1,right] + 6.0 x_s_a[2,2,down] + 0.0 x_s_a[2,2,right] + 7.0 x_s_a[2,3,up] + 0.0 x_s_a[2,3,down] + 0.0 x_s_a[2,3,left] + 0.0 x_s_a[2,4,up] + 0.0 x_s_a[2,4,up] + 0.0 x_s_a[2,4,left] + 5.0 x_s_a[2,4,right] + 0.0 x_s_a[2,5,right] + 8.0 x_s_a[2,6,up] + 5.0 x_s_a[2,6,left] + 0.0 x_s_a[2,6,right] + 6.0 x_s_a[2,7,up] + 0.0 x_s_a[2,7,up] + 0.0 x_s_a[2,7,up] + 0.0 x_s_a[2,7,left] + 9.0 x_s_a[2,7,right] + 0.0 x_s_a[2,8,up] + 0.0 x_s_a[2,8,up] + 0.0 x_s_a[2,8,left] + 9.0 x_s_a[2,8,right] + 5.0 x_s_a[3,0,left] + 5.0 x_s_a[3,1,left] + 6.0 x_s_a[3,1,right] + 6.0 x_s_a[3,3,left] + 0.0 x_s_a[3,4,right] + 5.0 x_s_a[3,5,up] + 0.0 x_s_a[3,6,up] + 0.0 x_s_a[3,6,up] + 0.0 x_s_a[3,6,left] + 0.0 x_s_a[3,7,right] + 9.0 x_s_a[3,8,up] + 0.0 x_s_a[3,9,left] + 5.0 x_s_a[4,0,up] + 8.0 x_s_a[4,0,down] + 0.0 x_s_a[4,0,down] + 0.0 x_s_a[4,0,right] + 0.0 x_s_a[4,1,up] + 0.0 x_s_a[4,1,up] + 8.0 x_s_a[4,1,down] + 0.0 x_s_a[4,1,down] + 0.0 x_s_a[4,1,left] + 0.0 x_s_a[4,1,left] + 0.0 x_s_a[4,1,right] + 6.0 x_s_a[4,2,up] + 0.0 x_s_a[4,2,left] + 0.0 x_s_a[4,2,right] + 0.0 x_s_a[4,3,up] + 0.0 x_s_a[4,3,up] + x_s_a[4,3,down] + 0.0 x_s_a[4,3,left] + 0.0 x_s_a[4,4,left] + 0.0 x_s_a[4,5,down] + 0.0 x_s_a[4,5,right] + 3.0 x_s_a[4,6,down] + 0.0 x_s_a[4,7,down] + 0.0 x_s_a[4,7,left] + x_s_a[5,0,down] + 8.0 x_s_a[5,0,left] + 8.0 x_s_a[5,0,right] + 0.0 x_s_a[5,1,down] + 8.0 x_s_a[5,1,left] + 0.0 x_s_a[5,1,left] + 8.0 x_s_a[5,1,right] + x_s_a[5,3,left] + x_s_a[5,3,right] + 6.0 x_s_a[5,5,down] + 3.0 x_s_a[5,5,right] + 0.0 x_s_a[5,6,down] + 0.0 x_s_a[5,6,down] + 0.0 x_s_a[5,6,left] + 0.0 x_s_a[5,6,right] + 8.0 x_s_a[5,7,down] + 0.0 x_s_a[5,7,down] + 3.0 x_s_a[5,7,left] + 0.0 x_s_a[5,7,right] + 8.0 x_s_a[5,8,down] + 0.0 x_s_a[5,8,down] + 0.0 x_s_a[5,8,down] + 0.0 x_s_a[5,8,left] + 0.0 x_s_a[5,8,right] + 2.0 x_s_a[5,9,down] + 0.0 x_s_a[5,9,down] + 0.0 x_s_a[5,9,left] + 8.0 x_s_a[6,0,up] + 0.0 x_s_a[6,0,up] + x_s_a[6,0,left] + 0.0 x_s_a[6,0,right] + 8.0 x_s_a[6,1,up] + 0.0 x_s_a[6,1,up] + 0.0 x_s_a[6,1,up] + 0.0 x_s_a[6,1,down] + x_s_a[6,1,left] + 0.0 x_s_a[6,1,left] + x_s_a[6,3,up] + 0.0 x_s_a[6,3,down] + 0.0 x_s_a[6,4,down] + 0.0 x_s_a[6,4,left] + 6.0 x_s_a[6,4,right] + 0.0 x_s_a[6,4,right] + 7.0 x_s_a[6,5,down] + 0.0 x_s_a[6,5,down] + 0.0 x_s_a[6,5,right] + 0.0 x_s_a[6,5,right] + 3.0 x_s_a[6,6,up] + 6.0 x_s_a[6,6,down] + 0.0 x_s_a[6,6,down] + 0.0 x_s_a[6,6,down] + 6.0 x_s_a[6,6,left] + 0.0 x_s_a[6,6,left] + 8.0 x_s_a[6,6,right] + 0.0 x_s_a[6,6,right] + 0.0 x_s_a[6,7,up] + 0.0 x_s_a[6,7,up] + 3.0 x_s_a[6,7,down] + 0.0 x_s_a[6,7,down] + 0.0 x_s_a[6,7,left] + 0.0 x_s_a[6,7,left] + 8.0 x_s_a[6,7,right] + 0.0 x_s_a[6,8,down] + 8.0 x_s_a[6,8,left] + 0.0 x_s_a[6,8,left] + 2.0 x_s_a[6,8,right] + 8.0 x_s_a[6,9,left] + 2.0 x_s_a[6,9,right] + x_s_a[7,0,up] + 0.0 x_s_a[7,1,up] + 0.0 x_s_a[7,1,up] + 0.0 x_s_a[7,1,down] + 0.0 x_s_a[7,1,left] + 5.0 x_s_a[7,1,right] + 0.0 x_s_a[7,1,right] + 5.0 x_s_a[7,2,up] + 9.0 x_s_a[7,2,down] + 0.0 x_s_a[7,2,down] + 0.0 x_s_a[7,2,right] + 2.0 x_s_a[7,3,down] + 0.0 x_s_a[7,3,down] + 0.0 x_s_a[7,3,down] + 5.0 x_s_a[7,3,left] + 0.0 x_s_a[7,3,left] + 0.0 x_s_a[7,3,right] + 8.0 x_s_a[7,4,down] + 0.0 x_s_a[7,4,down] + 0.0 x_s_a[7,4,left] + 7.0 x_s_a[7,4,right] + 0.0 x_s_a[7,4,right] + 6.0 x_s_a[7,5,up] + 7.0 x_s_a[7,5,down] + 0.0 x_s_a[7,5,left] + 6.0 x_s_a[7,5,right] + 0.0 x_s_a[7,6,up] + 0.0 x_s_a[7,6,up] + 0.0 x_s_a[7,6,down] + 7.0 x_s_a[7,6,left] + 0.0 x_s_a[7,6,left] + 3.0 x_s_a[7,6,right] + 0.0 x_s_a[7,6,right] + 0.0 x_s_a[7,6,right] + 8.0 x_s_a[7,7,up] + 8.0 x_s_a[7,7,down] + 6.0 x_s_a[7,7,left] + 0.0 x_s_a[7,7,right] + 8.0 x_s_a[7,8,up] + 0.0 x_s_a[7,8,up] + 0.0 x_s_a[7,8,up] + 0.0 x_s_a[7,8,down] + 3.0 x_s_a[7,8,left] + 0.0 x_s_a[7,8,left] + 0.0 x_s_a[7,8,left] + 0.0 x_s_a[7,8,right] + 2.0 x_s_a[7,9,up] + 0.0 x_s_a[7,9,up] + 0.0 x_s_a[7,9,left] + 0.0 x_s_a[8,1,down] + 0.0 x_s_a[8,1,down] + 9.0 x_s_a[8,1,right] + 0.0 x_s_a[8,1,right] + 0.0 x_s_a[8,1,right] + 5.0 x_s_a[8,2,up] + 4.0 x_s_a[8,2,down] + 2.0 x_s_a[8,2,right] + 0.0 x_s_a[8,3,up] + 0.0 x_s_a[8,3,up] + 2.0 x_s_a[8,3,down] + 9.0 x_s_a[8,3,left] + 0.0 x_s_a[8,3,left] + 0.0 x_s_a[8,3,left] + 8.0 x_s_a[8,3,right] + 8.0 x_s_a[8,4,down] + 2.0 x_s_a[8,4,left] + 8.0 x_s_a[8,4,right] + 6.0 x_s_a[8,6,up] + 0.0 x_s_a[8,6,up] + 0.0 x_s_a[8,6,up] + 4.0 x_s_a[8,6,down] + 8.0 x_s_a[8,6,right] + 0.0 x_s_a[8,6,right] + 3.0 x_s_a[8,7,up] + 0.0 x_s_a[8,7,up] + 0.0 x_s_a[8,7,up] + 0.0 x_s_a[8,7,down] + 0.0 x_s_a[8,7,down] + 0.0 x_s_a[8,7,left] + 0.0 x_s_a[8,7,left] + 0.0 x_s_a[8,7,right] + 0.0 x_s_a[8,8,up] + 0.0 x_s_a[8,8,up] + 9.0 x_s_a[8,8,down] + 8.0 x_s_a[8,8,left] + 0.0 x_s_a[8,8,left] + 0.0 x_s_a[8,9,down] + 0.0 x_s_a[8,9,left] + 6.0 x_s_a[9,0,up] + 6.0 x_s_a[9,0,down] + 6.0 x_s_a[9,0,left] + 6.0 x_s_a[9,1,left] + 4.0 x_s_a[9,1,right] + 0.0 x_s_a[9,1,right] + 9.0 x_s_a[9,2,up] + 4.0 x_s_a[9,2,down] + 4.0 x_s_a[9,2,right] + 4.0 x_s_a[9,5,right] + 4.0 x_s_a[9,6,down] + 0.0 x_s_a[9,6,right] + 8.0 x_s_a[9,7,up] + 4.0 x_s_a[9,7,left] + 9.0 x_s_a[9,7,right] + 0.0 x_s_a[9,8,up] + 0.0 x_s_a[9,8,up] + 9.0 x_s_a[9,8,down] + 0.0 x_s_a[9,8,left]>\n",
      "<gurobi.LinExpr: 0.0 x_s_a[0,3,down] + 0.0 x_s_a[0,3,right] + 5.0 x_s_a[0,4,down] + 0.0 x_s_a[0,4,down] + 0.0 x_s_a[0,4,right] + 2.0 x_s_a[0,5,down] + 0.0 x_s_a[0,5,down] + 0.0 x_s_a[0,5,left] + 3.0 x_s_a[0,5,right] + 3.0 x_s_a[0,6,up] + 0.0 x_s_a[0,6,down] + 0.0 x_s_a[0,6,left] + 3.0 x_s_a[0,7,left] + 0.0 x_s_a[0,8,down] + 0.0 x_s_a[0,8,right] + 8.0 x_s_a[0,9,down] + 3.0 x_s_a[1,0,down] + 0.0 x_s_a[1,1,down] + 0.0 x_s_a[1,1,down] + 0.0 x_s_a[1,1,left] + 0.0 x_s_a[1,1,right] + 4.0 x_s_a[1,2,down] + 0.0 x_s_a[1,2,down] + 0.0 x_s_a[1,2,right] + 5.0 x_s_a[1,3,down] + 0.0 x_s_a[1,3,down] + 0.0 x_s_a[1,3,down] + 0.0 x_s_a[1,3,left] + 5.0 x_s_a[1,3,right] + 0.0 x_s_a[1,3,right] + 9.0 x_s_a[1,4,down] + 0.0 x_s_a[1,4,down] + 0.0 x_s_a[1,4,left] + 2.0 x_s_a[1,4,right] + 0.0 x_s_a[1,5,down] + 5.0 x_s_a[1,5,left] + 0.0 x_s_a[1,5,left] + 0.0 x_s_a[1,5,right] + 3.0 x_s_a[1,6,up] + 0.0 x_s_a[1,6,down] + 2.0 x_s_a[1,6,left] + 0.0 x_s_a[1,6,right] + 0.0 x_s_a[1,7,up] + 0.0 x_s_a[1,7,up] + 2.0 x_s_a[1,7,down] + 0.0 x_s_a[1,7,left] + 0.0 x_s_a[1,8,down] + 0.0 x_s_a[1,8,left] + 8.0 x_s_a[1,8,right] + 8.0 x_s_a[1,9,down] + 8.0 x_s_a[1,9,right] + 3.0 x_s_a[2,0,left] + 3.0 x_s_a[2,1,left] + 4.0 x_s_a[2,1,right] + 5.0 x_s_a[2,2,right] + 4.0 x_s_a[2,3,left] + 9.0 x_s_a[2,3,right] + 0.0 x_s_a[2,3,right] + 5.0 x_s_a[2,4,up] + 5.0 x_s_a[2,4,left] + 0.0 x_s_a[2,4,right] + 2.0 x_s_a[2,5,up] + 0.0 x_s_a[2,5,up] + 0.0 x_s_a[2,5,up] + 0.0 x_s_a[2,5,down] + 9.0 x_s_a[2,5,left] + 0.0 x_s_a[2,5,left] + 0.0 x_s_a[2,5,right] + 0.0 x_s_a[2,6,up] + 0.0 x_s_a[2,6,up] + 5.0 x_s_a[2,6,down] + 0.0 x_s_a[2,6,down] + 0.0 x_s_a[2,6,left] + 2.0 x_s_a[2,6,right] + 0.0 x_s_a[2,6,right] + 3.0 x_s_a[2,7,down] + 0.0 x_s_a[2,7,down] + 0.0 x_s_a[2,7,down] + 0.0 x_s_a[2,7,left] + 0.0 x_s_a[2,7,right] + 7.0 x_s_a[2,8,down] + 0.0 x_s_a[2,8,down] + 0.0 x_s_a[2,8,down] + 2.0 x_s_a[2,8,left] + 0.0 x_s_a[2,8,left] + 3.0 x_s_a[3,0,up] + 2.0 x_s_a[3,0,down] + 0.0 x_s_a[3,0,down] + 0.0 x_s_a[3,0,right] + 0.0 x_s_a[3,1,up] + 0.0 x_s_a[3,1,up] + 2.0 x_s_a[3,1,down] + 0.0 x_s_a[3,1,down] + 0.0 x_s_a[3,1,down] + 0.0 x_s_a[3,1,left] + 0.0 x_s_a[3,1,left] + 0.0 x_s_a[3,1,right] + 0.0 x_s_a[3,1,right] + 4.0 x_s_a[3,2,up] + 5.0 x_s_a[3,2,down] + 0.0 x_s_a[3,2,down] + 0.0 x_s_a[3,2,down] + 0.0 x_s_a[3,2,left] + 0.0 x_s_a[3,2,right] + 0.0 x_s_a[3,2,right] + 5.0 x_s_a[3,3,up] + 0.0 x_s_a[3,3,up] + 0.0 x_s_a[3,3,up] + 2.0 x_s_a[3,3,down] + 0.0 x_s_a[3,3,down] + 0.0 x_s_a[3,3,left] + 0.0 x_s_a[3,3,left] + 0.0 x_s_a[3,3,right] + 9.0 x_s_a[3,4,up] + 0.0 x_s_a[3,4,up] + 0.0 x_s_a[3,4,up] + 0.0 x_s_a[3,4,down] + 0.0 x_s_a[3,4,down] + 0.0 x_s_a[3,4,left] + 0.0 x_s_a[3,4,left] + 0.0 x_s_a[3,4,right] + 0.0 x_s_a[3,5,up] + 0.0 x_s_a[3,5,up] + 6.0 x_s_a[3,5,down] + 0.0 x_s_a[3,5,down] + 0.0 x_s_a[3,5,left] + 5.0 x_s_a[3,5,right] + 0.0 x_s_a[3,5,right] + x_s_a[3,6,down] + 0.0 x_s_a[3,6,down] + 0.0 x_s_a[3,6,left] + 3.0 x_s_a[3,6,right] + 0.0 x_s_a[3,6,right] + 2.0 x_s_a[3,7,up] + 0.0 x_s_a[3,7,down] + 5.0 x_s_a[3,7,left] + 0.0 x_s_a[3,7,left] + 7.0 x_s_a[3,7,right] + 0.0 x_s_a[3,8,up] + 0.0 x_s_a[3,8,up] + 0.0 x_s_a[3,8,down] + 3.0 x_s_a[3,8,left] + 0.0 x_s_a[3,8,left] + 3.0 x_s_a[3,8,right] + 0.0 x_s_a[3,8,right] + 3.0 x_s_a[3,9,up] + 6.0 x_s_a[3,9,down] + 7.0 x_s_a[3,9,left] + 3.0 x_s_a[3,9,right] + 2.0 x_s_a[4,0,left] + 2.0 x_s_a[4,0,right] + 2.0 x_s_a[4,1,left] + 5.0 x_s_a[4,1,right] + 5.0 x_s_a[4,2,down] + 2.0 x_s_a[4,2,left] + 2.0 x_s_a[4,2,right] + 5.0 x_s_a[4,3,left] + 2.0 x_s_a[4,4,left] + 6.0 x_s_a[4,4,right] + 0.0 x_s_a[4,4,right] + 4.0 x_s_a[4,5,down] + x_s_a[4,5,right] + 0.0 x_s_a[4,5,right] + 5.0 x_s_a[4,6,up] + 0.0 x_s_a[4,6,down] + 0.0 x_s_a[4,6,down] + 6.0 x_s_a[4,6,left] + 0.0 x_s_a[4,6,left] + 0.0 x_s_a[4,6,right] + 0.0 x_s_a[4,6,right] + 3.0 x_s_a[4,7,up] + 0.0 x_s_a[4,7,up] + 0.0 x_s_a[4,7,up] + 5.0 x_s_a[4,7,down] + 0.0 x_s_a[4,7,down] + x_s_a[4,7,left] + 0.0 x_s_a[4,7,left] + 0.0 x_s_a[4,7,right] + 0.0 x_s_a[4,7,right] + 7.0 x_s_a[4,8,up] + 0.0 x_s_a[4,8,up] + 0.0 x_s_a[4,8,up] + 2.0 x_s_a[4,8,down] + 0.0 x_s_a[4,8,down] + 0.0 x_s_a[4,8,down] + 0.0 x_s_a[4,8,left] + 0.0 x_s_a[4,8,left] + 6.0 x_s_a[4,8,right] + 0.0 x_s_a[4,8,right] + 0.0 x_s_a[4,8,right] + 3.0 x_s_a[4,9,up] + 0.0 x_s_a[4,9,up] + 3.0 x_s_a[4,9,down] + 0.0 x_s_a[4,9,down] + 0.0 x_s_a[4,9,left] + 0.0 x_s_a[4,9,left] + 6.0 x_s_a[4,9,right] + 2.0 x_s_a[5,0,up] + 0.0 x_s_a[5,0,up] + 0.0 x_s_a[5,0,down] + 0.0 x_s_a[5,0,right] + 0.0 x_s_a[5,0,right] + 2.0 x_s_a[5,1,up] + 0.0 x_s_a[5,1,up] + 0.0 x_s_a[5,1,up] + 5.0 x_s_a[5,1,down] + 0.0 x_s_a[5,1,left] + 2.0 x_s_a[5,3,up] + 0.0 x_s_a[5,3,up] + 0.0 x_s_a[5,3,up] + 0.0 x_s_a[5,3,down] + 6.0 x_s_a[5,5,up] + 0.0 x_s_a[5,5,down] + 0.0 x_s_a[5,5,down] + 4.0 x_s_a[5,5,left] + 0.0 x_s_a[5,5,right] + 0.0 x_s_a[5,5,right] + x_s_a[5,6,up] + 0.0 x_s_a[5,6,up] + 0.0 x_s_a[5,6,up] + 3.0 x_s_a[5,6,down] + 4.0 x_s_a[5,6,left] + 0.0 x_s_a[5,6,left] + 5.0 x_s_a[5,6,right] + 0.0 x_s_a[5,7,up] + 0.0 x_s_a[5,7,up] + 0.0 x_s_a[5,7,down] + 0.0 x_s_a[5,7,left] + 0.0 x_s_a[5,7,left] + 2.0 x_s_a[5,7,right] + 5.0 x_s_a[5,8,left] + 3.0 x_s_a[5,8,right] + 0.0 x_s_a[5,8,right] + 6.0 x_s_a[5,9,up] + 2.0 x_s_a[5,9,left] + 3.0 x_s_a[5,9,right] + 5.0 x_s_a[6,0,right] + 5.0 x_s_a[6,1,right] + 0.0 x_s_a[6,3,down] + 6.0 x_s_a[6,3,right] + 0.0 x_s_a[6,3,right] + 6.0 x_s_a[6,4,up] + 4.0 x_s_a[6,4,down] + 0.0 x_s_a[6,4,right] + 4.0 x_s_a[6,5,up] + 0.0 x_s_a[6,5,down] + 6.0 x_s_a[6,5,left] + 0.0 x_s_a[6,5,left] + 3.0 x_s_a[6,5,right] + 0.0 x_s_a[6,6,up] + 0.0 x_s_a[6,6,up] + 0.0 x_s_a[6,6,left] + 0.0 x_s_a[6,6,right] + 5.0 x_s_a[6,7,up] + 0.0 x_s_a[6,7,down] + 3.0 x_s_a[6,7,left] + 0.0 x_s_a[6,7,right] + 0.0 x_s_a[6,7,right] + 2.0 x_s_a[6,8,up] + 0.0 x_s_a[6,8,up] + 0.0 x_s_a[6,8,up] + 6.0 x_s_a[6,8,down] + 0.0 x_s_a[6,8,down] + 0.0 x_s_a[6,8,left] + 0.0 x_s_a[6,8,right] + 0.0 x_s_a[6,8,right] + 3.0 x_s_a[6,9,up] + 0.0 x_s_a[6,9,up] + x_s_a[6,9,down] + 0.0 x_s_a[6,9,down] + 0.0 x_s_a[6,9,left] + 0.0 x_s_a[6,9,left] + 0.0 x_s_a[7,0,up] + 0.0 x_s_a[7,0,right] + 0.0 x_s_a[7,0,right] + 5.0 x_s_a[7,1,up] + 7.0 x_s_a[7,1,down] + 0.0 x_s_a[7,2,down] + 0.0 x_s_a[7,2,left] + 0.0 x_s_a[7,2,left] + 4.0 x_s_a[7,3,right] + 0.0 x_s_a[7,3,right] + 6.0 x_s_a[7,4,up] + 0.0 x_s_a[7,5,up] + 0.0 x_s_a[7,5,up] + 4.0 x_s_a[7,5,left] + 0.0 x_s_a[7,5,left] + 0.0 x_s_a[7,5,right] + 0.0 x_s_a[7,5,right] + 3.0 x_s_a[7,6,up] + 2.0 x_s_a[7,6,down] + 0.0 x_s_a[7,7,up] + 0.0 x_s_a[7,7,up] + 0.0 x_s_a[7,7,down] + 0.0 x_s_a[7,7,left] + 0.0 x_s_a[7,7,left] + 6.0 x_s_a[7,7,right] + 0.0 x_s_a[7,8,down] + x_s_a[7,8,right] + 0.0 x_s_a[7,8,right] + 0.0 x_s_a[7,9,down] + 6.0 x_s_a[7,9,left] + x_s_a[7,9,right] + 7.0 x_s_a[8,1,left] + 7.0 x_s_a[8,2,left] + 0.0 x_s_a[8,3,right] + 4.0 x_s_a[8,4,up] + 0.0 x_s_a[8,6,down] + 0.0 x_s_a[8,6,down] + 2.0 x_s_a[8,6,left] + 0.0 x_s_a[8,6,right] + 2.0 x_s_a[8,7,down] + 2.0 x_s_a[8,7,left] + 0.0 x_s_a[8,7,right] + 6.0 x_s_a[8,8,up] + 0.0 x_s_a[8,8,down] + 0.0 x_s_a[8,8,down] + 0.0 x_s_a[8,8,left] + 0.0 x_s_a[8,8,right] + 0.0 x_s_a[8,8,right] + 0.0 x_s_a[8,8,right] + x_s_a[8,9,up] + 0.0 x_s_a[8,9,up] + 0.0 x_s_a[8,9,down] + 0.0 x_s_a[8,9,left] + 0.0 x_s_a[8,9,right] + 0.0 x_s_a[9,0,right] + 7.0 x_s_a[9,1,up] + 0.0 x_s_a[9,2,up] + 0.0 x_s_a[9,2,up] + 0.0 x_s_a[9,2,left] + x_s_a[9,5,up] + x_s_a[9,5,down] + x_s_a[9,5,left] + 0.0 x_s_a[9,5,right] + 2.0 x_s_a[9,6,up] + x_s_a[9,6,left] + 2.0 x_s_a[9,6,right] + 0.0 x_s_a[9,7,up] + 0.0 x_s_a[9,7,up] + 2.0 x_s_a[9,7,down] + 0.0 x_s_a[9,7,left] + 2.0 x_s_a[9,8,left] + 0.0 x_s_a[9,8,right] + 0.0 x_s_a[9,8,right]>\n"
     ]
    }
   ],
   "source": [
    "policy,val,pm=minmax_policy(env,1)"
   ]
  },
  {
   "cell_type": "code",
   "execution_count": 47,
   "metadata": {},
   "outputs": [],
   "source": [
    "pn=normalise(policy)"
   ]
  },
  {
   "cell_type": "code",
   "execution_count": 48,
   "metadata": {},
   "outputs": [],
   "source": [
    "pd=get_a_policy(pn)"
   ]
  },
  {
   "cell_type": "code",
   "execution_count": 49,
   "metadata": {},
   "outputs": [],
   "source": [
    "nb,v,policy=value_iteration(env,0.9,max_iteration=2000)\n",
    "dict_action={0:\"O\",1:\"S\",2:\"W\",3:\"E\"}"
   ]
  },
  {
   "cell_type": "code",
   "execution_count": 50,
   "metadata": {},
   "outputs": [
    {
     "data": {
      "image/png": "[encoded data removed]",
      "text/plain": [
       "<Figure size 432x288 with 1 Axes>"
      ]
     },
     "metadata": {
      "needs_background": "light"
     },
     "output_type": "display_data"
    }
   ],
   "source": [
    "visu_policy(v,pd,dict_action,cases)"
   ]
  },
  {
   "cell_type": "code",
   "execution_count": 51,
   "metadata": {},
   "outputs": [
    {
     "data": {
      "text/plain": [
       "727.4547511312217"
      ]
     },
     "execution_count": 51,
     "metadata": {},
     "output_type": "execute_result"
    }
   ],
   "source": [
    "val"
   ]
  },
  {
   "cell_type": "code",
   "execution_count": 52,
   "metadata": {},
   "outputs": [
    {
     "data": {
      "text/plain": [
       "array([727.45475113, 663.57692308, 727.45475113, 727.45475113])"
      ]
     },
     "execution_count": 52,
     "metadata": {},
     "output_type": "execute_result"
    }
   ],
   "source": [
    "pm"
   ]
  },
  {
   "cell_type": "code",
   "execution_count": null,
   "metadata": {},
   "outputs": [],
   "source": []
  }
 ],
 "metadata": {
  "kernelspec": {
   "display_name": "Python 3",
   "language": "python",
   "name": "python3"
  },
  "language_info": {
   "codemirror_mode": {
    "name": "ipython",
    "version": 3
   },
   "file_extension": ".py",
   "mimetype": "text/x-python",
   "name": "python",
   "nbconvert_exporter": "python",
   "pygments_lexer": "ipython3",
   "version": "3.8.3"
  }
 },
 "nbformat": 4,
 "nbformat_minor": 4
}
